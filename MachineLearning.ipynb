{
 "cells": [
  {
   "cell_type": "markdown",
   "id": "95ef8b88-b432-4fd2-87b4-0a3439107eda",
   "metadata": {},
   "source": [
    "# Machine Learning - Introduction au feature engineering en régressions linéaire et polynomiale."
   ]
  },
  {
   "cell_type": "markdown",
   "id": "c96f2a23-afbb-430e-b7ff-5f9629a78d8b",
   "metadata": {},
   "source": [
    " "
   ]
  },
  {
   "cell_type": "markdown",
   "id": "a91a0059-4055-4def-a293-ecf05b516449",
   "metadata": {},
   "source": [
    "Le <u>feature engineering</u> ou ingénierie des caractéristiques en français est une étape capitale dans le processus de construction de modèles de machine learning. Elle consiste à transformer les données brutes en caractéristiques pertinentes et informatives qui permettront à l'algorithme d'apprentissage d'identifier les patterns et de faire des prédictions plus précises.\n",
    "\n",
    "Ainsi, dans cette étude, je m'introduis à ce domaine, à la recherche de la meilleure préparation des données et du meilleur paramétrage de modèles. Je prendrai soin d'améliorer ma compréhension des conceptes statistiques et ma maîtrise de la bibliothèque Scikit-Learn. Je tenterai également de faire le paralèlle avec la librairie TensorFlow et Keras qui offrent également des outils puissants pour le machine learning et de deep-learning.\n",
    "\n",
    "Bonne lecture."
   ]
  },
  {
   "cell_type": "markdown",
   "id": "94d55b51-16d9-4bad-9eb0-d2a9825eed8f",
   "metadata": {},
   "source": [
    " "
   ]
  },
  {
   "cell_type": "code",
   "execution_count": 96,
   "id": "7cec88dc-7043-4622-860f-4e466d547b68",
   "metadata": {},
   "outputs": [],
   "source": [
    "import numpy as np\n",
    "import pandas as pd\n",
    "from pandas.api.types import is_numeric_dtype, is_object_dtype\n",
    "import matplotlib.pylab as plt\n",
    "from sklearn.preprocessing import LabelEncoder\n",
    "from sklearn.linear_model import LinearRegression\n",
    "from sklearn.preprocessing import PolynomialFeatures\n",
    "from sklearn.model_selection import train_test_split\n",
    "from sklearn.preprocessing import StandardScaler\n",
    "from sklearn.metrics import mean_squared_error, r2_score\n",
    "from statsmodels.stats.outliers_influence import variance_inflation_factor\n",
    "import operator"
   ]
  },
  {
   "cell_type": "code",
   "execution_count": 97,
   "id": "73cf8f0a-e652-4447-b1d8-2912ff869155",
   "metadata": {},
   "outputs": [
    {
     "data": {
      "text/html": [
       "<div>\n",
       "<style scoped>\n",
       "    .dataframe tbody tr th:only-of-type {\n",
       "        vertical-align: middle;\n",
       "    }\n",
       "\n",
       "    .dataframe tbody tr th {\n",
       "        vertical-align: top;\n",
       "    }\n",
       "\n",
       "    .dataframe thead th {\n",
       "        text-align: right;\n",
       "    }\n",
       "</style>\n",
       "<table border=\"1\" class=\"dataframe\">\n",
       "  <thead>\n",
       "    <tr style=\"text-align: right;\">\n",
       "      <th></th>\n",
       "      <th>Brand</th>\n",
       "      <th>Price</th>\n",
       "      <th>Body</th>\n",
       "      <th>Mileage</th>\n",
       "      <th>EngineV</th>\n",
       "      <th>Engine Type</th>\n",
       "      <th>Registration</th>\n",
       "      <th>Year</th>\n",
       "      <th>Model</th>\n",
       "    </tr>\n",
       "  </thead>\n",
       "  <tbody>\n",
       "    <tr>\n",
       "      <th>2396</th>\n",
       "      <td>Mercedes-Benz</td>\n",
       "      <td>14300.0</td>\n",
       "      <td>other</td>\n",
       "      <td>175</td>\n",
       "      <td>2.2</td>\n",
       "      <td>Diesel</td>\n",
       "      <td>yes</td>\n",
       "      <td>2013</td>\n",
       "      <td>Sprinter 313</td>\n",
       "    </tr>\n",
       "    <tr>\n",
       "      <th>1089</th>\n",
       "      <td>BMW</td>\n",
       "      <td>19900.0</td>\n",
       "      <td>other</td>\n",
       "      <td>95</td>\n",
       "      <td>4.5</td>\n",
       "      <td>Petrol</td>\n",
       "      <td>yes</td>\n",
       "      <td>2005</td>\n",
       "      <td>645</td>\n",
       "    </tr>\n",
       "    <tr>\n",
       "      <th>300</th>\n",
       "      <td>Audi</td>\n",
       "      <td>18800.0</td>\n",
       "      <td>crossover</td>\n",
       "      <td>197</td>\n",
       "      <td>4.2</td>\n",
       "      <td>Petrol</td>\n",
       "      <td>yes</td>\n",
       "      <td>2007</td>\n",
       "      <td>Q7</td>\n",
       "    </tr>\n",
       "    <tr>\n",
       "      <th>1704</th>\n",
       "      <td>Volkswagen</td>\n",
       "      <td>9750.0</td>\n",
       "      <td>van</td>\n",
       "      <td>1</td>\n",
       "      <td>1.9</td>\n",
       "      <td>Diesel</td>\n",
       "      <td>yes</td>\n",
       "      <td>2004</td>\n",
       "      <td>T5 (Transporter)</td>\n",
       "    </tr>\n",
       "    <tr>\n",
       "      <th>3447</th>\n",
       "      <td>Volkswagen</td>\n",
       "      <td>19999.0</td>\n",
       "      <td>other</td>\n",
       "      <td>48</td>\n",
       "      <td>2.0</td>\n",
       "      <td>Diesel</td>\n",
       "      <td>yes</td>\n",
       "      <td>2012</td>\n",
       "      <td>Eos</td>\n",
       "    </tr>\n",
       "  </tbody>\n",
       "</table>\n",
       "</div>"
      ],
      "text/plain": [
       "              Brand    Price       Body  Mileage  EngineV Engine Type  \\\n",
       "2396  Mercedes-Benz  14300.0      other      175      2.2      Diesel   \n",
       "1089            BMW  19900.0      other       95      4.5      Petrol   \n",
       "300            Audi  18800.0  crossover      197      4.2      Petrol   \n",
       "1704     Volkswagen   9750.0        van        1      1.9      Diesel   \n",
       "3447     Volkswagen  19999.0      other       48      2.0      Diesel   \n",
       "\n",
       "     Registration  Year             Model  \n",
       "2396          yes  2013      Sprinter 313  \n",
       "1089          yes  2005               645  \n",
       "300           yes  2007                Q7  \n",
       "1704          yes  2004  T5 (Transporter)  \n",
       "3447          yes  2012               Eos  "
      ]
     },
     "execution_count": 97,
     "metadata": {},
     "output_type": "execute_result"
    }
   ],
   "source": [
    "df=pd.read_csv(\"../../Datasets/Reg.csv\")\n",
    "df.sample(5)"
   ]
  },
  {
   "cell_type": "markdown",
   "id": "cc59a8d3-3331-4038-89d0-78dafe051abf",
   "metadata": {},
   "source": [
    " "
   ]
  },
  {
   "cell_type": "markdown",
   "id": "7f709bb5-09bb-45af-9297-cf46f5e5732b",
   "metadata": {},
   "source": [
    " "
   ]
  },
  {
   "cell_type": "markdown",
   "id": "2bdddd5a-9279-4a76-828a-bcaf3cf835a1",
   "metadata": {},
   "source": [
    "# 1. La préparation des données."
   ]
  },
  {
   "cell_type": "markdown",
   "id": "26c7faed-4b23-42f5-8d73-3457a7f7ecf1",
   "metadata": {},
   "source": [
    "### 1. Découverte du dataset"
   ]
  },
  {
   "cell_type": "code",
   "execution_count": 98,
   "id": "478fb32f-941b-40e8-9d78-28d12103871a",
   "metadata": {},
   "outputs": [
    {
     "data": {
      "text/plain": [
       "(4345, 9)"
      ]
     },
     "execution_count": 98,
     "metadata": {},
     "output_type": "execute_result"
    }
   ],
   "source": [
    "df.shape"
   ]
  },
  {
   "cell_type": "code",
   "execution_count": 99,
   "id": "af0271ea-339a-48a9-b015-222d836e166b",
   "metadata": {},
   "outputs": [
    {
     "name": "stdout",
     "output_type": "stream",
     "text": [
      "<class 'pandas.core.frame.DataFrame'>\n",
      "RangeIndex: 4345 entries, 0 to 4344\n",
      "Data columns (total 9 columns):\n",
      " #   Column        Non-Null Count  Dtype  \n",
      "---  ------        --------------  -----  \n",
      " 0   Brand         4345 non-null   object \n",
      " 1   Price         4173 non-null   float64\n",
      " 2   Body          4345 non-null   object \n",
      " 3   Mileage       4345 non-null   int64  \n",
      " 4   EngineV       4195 non-null   float64\n",
      " 5   Engine Type   4345 non-null   object \n",
      " 6   Registration  4345 non-null   object \n",
      " 7   Year          4345 non-null   int64  \n",
      " 8   Model         4345 non-null   object \n",
      "dtypes: float64(2), int64(2), object(5)\n",
      "memory usage: 305.6+ KB\n"
     ]
    }
   ],
   "source": [
    "df.info()"
   ]
  },
  {
   "cell_type": "markdown",
   "id": "c006f34c-ff6d-47ac-b7a7-8e8f6676506f",
   "metadata": {},
   "source": [
    " "
   ]
  },
  {
   "cell_type": "markdown",
   "id": "e7be8e26-c117-4a58-a825-6e7bc7db743c",
   "metadata": {},
   "source": [
    "### 2. Gestion des données manquantes ou dupliquées."
   ]
  },
  {
   "cell_type": "code",
   "execution_count": 100,
   "id": "ad9523db-77e7-4dd0-854e-0d9c754e188d",
   "metadata": {},
   "outputs": [
    {
     "data": {
      "text/plain": [
       "Brand             0\n",
       "Price           172\n",
       "Body              0\n",
       "Mileage           0\n",
       "EngineV         150\n",
       "Engine Type       0\n",
       "Registration      0\n",
       "Year              0\n",
       "Model             0\n",
       "dtype: int64"
      ]
     },
     "execution_count": 100,
     "metadata": {},
     "output_type": "execute_result"
    }
   ],
   "source": [
    "df.isna().sum()"
   ]
  },
  {
   "cell_type": "code",
   "execution_count": 101,
   "id": "3c3554d2-0b79-4042-90d7-838e61b43bd8",
   "metadata": {},
   "outputs": [
    {
     "data": {
      "text/plain": [
       "0"
      ]
     },
     "execution_count": 101,
     "metadata": {},
     "output_type": "execute_result"
    }
   ],
   "source": [
    "def na_en_median(vecteur):\n",
    "    return vecteur.astype(float).fillna(vecteur.median())\n",
    "df.update(pd.DataFrame.from_dict({nom_colonne : na_en_median(df[nom_colonne]) for nom_colonne in df if is_numeric_dtype(df[nom_colonne])}))\n",
    "df.isna().sum().sum()"
   ]
  },
  {
   "cell_type": "code",
   "execution_count": 102,
   "id": "4fa538ff-7c8e-45e1-a63f-f410a83dcfd7",
   "metadata": {},
   "outputs": [
    {
     "data": {
      "text/plain": [
       "0"
      ]
     },
     "execution_count": 102,
     "metadata": {},
     "output_type": "execute_result"
    }
   ],
   "source": [
    "df = df.drop_duplicates(keep='first')\n",
    "df.duplicated().sum()"
   ]
  },
  {
   "cell_type": "code",
   "execution_count": 103,
   "id": "eb340699-8655-44d9-afda-5b4b9f7e4908",
   "metadata": {},
   "outputs": [
    {
     "data": {
      "text/html": [
       "<div>\n",
       "<style scoped>\n",
       "    .dataframe tbody tr th:only-of-type {\n",
       "        vertical-align: middle;\n",
       "    }\n",
       "\n",
       "    .dataframe tbody tr th {\n",
       "        vertical-align: top;\n",
       "    }\n",
       "\n",
       "    .dataframe thead th {\n",
       "        text-align: right;\n",
       "    }\n",
       "</style>\n",
       "<table border=\"1\" class=\"dataframe\">\n",
       "  <thead>\n",
       "    <tr style=\"text-align: right;\">\n",
       "      <th></th>\n",
       "      <th>Brand</th>\n",
       "      <th>Price</th>\n",
       "      <th>Body</th>\n",
       "      <th>Mileage</th>\n",
       "      <th>EngineV</th>\n",
       "      <th>Engine Type</th>\n",
       "      <th>Registration</th>\n",
       "      <th>Year</th>\n",
       "      <th>Model</th>\n",
       "    </tr>\n",
       "  </thead>\n",
       "  <tbody>\n",
       "    <tr>\n",
       "      <th>0</th>\n",
       "      <td>BMW</td>\n",
       "      <td>4200.0</td>\n",
       "      <td>sedan</td>\n",
       "      <td>277</td>\n",
       "      <td>2.0</td>\n",
       "      <td>Petrol</td>\n",
       "      <td>yes</td>\n",
       "      <td>1991</td>\n",
       "      <td>320</td>\n",
       "    </tr>\n",
       "    <tr>\n",
       "      <th>1</th>\n",
       "      <td>Mercedes-Benz</td>\n",
       "      <td>7900.0</td>\n",
       "      <td>van</td>\n",
       "      <td>427</td>\n",
       "      <td>2.9</td>\n",
       "      <td>Diesel</td>\n",
       "      <td>yes</td>\n",
       "      <td>1999</td>\n",
       "      <td>Sprinter 212</td>\n",
       "    </tr>\n",
       "    <tr>\n",
       "      <th>2</th>\n",
       "      <td>Mercedes-Benz</td>\n",
       "      <td>13300.0</td>\n",
       "      <td>sedan</td>\n",
       "      <td>358</td>\n",
       "      <td>5.0</td>\n",
       "      <td>Gas</td>\n",
       "      <td>yes</td>\n",
       "      <td>2003</td>\n",
       "      <td>S 500</td>\n",
       "    </tr>\n",
       "    <tr>\n",
       "      <th>3</th>\n",
       "      <td>Audi</td>\n",
       "      <td>23000.0</td>\n",
       "      <td>crossover</td>\n",
       "      <td>240</td>\n",
       "      <td>4.2</td>\n",
       "      <td>Petrol</td>\n",
       "      <td>yes</td>\n",
       "      <td>2007</td>\n",
       "      <td>Q7</td>\n",
       "    </tr>\n",
       "    <tr>\n",
       "      <th>4</th>\n",
       "      <td>Toyota</td>\n",
       "      <td>18300.0</td>\n",
       "      <td>crossover</td>\n",
       "      <td>120</td>\n",
       "      <td>2.0</td>\n",
       "      <td>Petrol</td>\n",
       "      <td>yes</td>\n",
       "      <td>2011</td>\n",
       "      <td>Rav 4</td>\n",
       "    </tr>\n",
       "    <tr>\n",
       "      <th>...</th>\n",
       "      <td>...</td>\n",
       "      <td>...</td>\n",
       "      <td>...</td>\n",
       "      <td>...</td>\n",
       "      <td>...</td>\n",
       "      <td>...</td>\n",
       "      <td>...</td>\n",
       "      <td>...</td>\n",
       "      <td>...</td>\n",
       "    </tr>\n",
       "    <tr>\n",
       "      <th>4340</th>\n",
       "      <td>Mercedes-Benz</td>\n",
       "      <td>125000.0</td>\n",
       "      <td>sedan</td>\n",
       "      <td>9</td>\n",
       "      <td>3.0</td>\n",
       "      <td>Diesel</td>\n",
       "      <td>yes</td>\n",
       "      <td>2014</td>\n",
       "      <td>S 350</td>\n",
       "    </tr>\n",
       "    <tr>\n",
       "      <th>4341</th>\n",
       "      <td>BMW</td>\n",
       "      <td>6500.0</td>\n",
       "      <td>sedan</td>\n",
       "      <td>1</td>\n",
       "      <td>3.5</td>\n",
       "      <td>Petrol</td>\n",
       "      <td>yes</td>\n",
       "      <td>1999</td>\n",
       "      <td>535</td>\n",
       "    </tr>\n",
       "    <tr>\n",
       "      <th>4342</th>\n",
       "      <td>BMW</td>\n",
       "      <td>8000.0</td>\n",
       "      <td>sedan</td>\n",
       "      <td>194</td>\n",
       "      <td>2.0</td>\n",
       "      <td>Petrol</td>\n",
       "      <td>yes</td>\n",
       "      <td>1985</td>\n",
       "      <td>520</td>\n",
       "    </tr>\n",
       "    <tr>\n",
       "      <th>4343</th>\n",
       "      <td>Toyota</td>\n",
       "      <td>14200.0</td>\n",
       "      <td>sedan</td>\n",
       "      <td>31</td>\n",
       "      <td>2.2</td>\n",
       "      <td>Petrol</td>\n",
       "      <td>yes</td>\n",
       "      <td>2014</td>\n",
       "      <td>Corolla</td>\n",
       "    </tr>\n",
       "    <tr>\n",
       "      <th>4344</th>\n",
       "      <td>Volkswagen</td>\n",
       "      <td>13500.0</td>\n",
       "      <td>van</td>\n",
       "      <td>124</td>\n",
       "      <td>2.0</td>\n",
       "      <td>Diesel</td>\n",
       "      <td>yes</td>\n",
       "      <td>2013</td>\n",
       "      <td>T5 (Transporter)</td>\n",
       "    </tr>\n",
       "  </tbody>\n",
       "</table>\n",
       "<p>4272 rows × 9 columns</p>\n",
       "</div>"
      ],
      "text/plain": [
       "              Brand     Price       Body  Mileage  EngineV Engine Type  \\\n",
       "0               BMW    4200.0      sedan      277      2.0      Petrol   \n",
       "1     Mercedes-Benz    7900.0        van      427      2.9      Diesel   \n",
       "2     Mercedes-Benz   13300.0      sedan      358      5.0         Gas   \n",
       "3              Audi   23000.0  crossover      240      4.2      Petrol   \n",
       "4            Toyota   18300.0  crossover      120      2.0      Petrol   \n",
       "...             ...       ...        ...      ...      ...         ...   \n",
       "4340  Mercedes-Benz  125000.0      sedan        9      3.0      Diesel   \n",
       "4341            BMW    6500.0      sedan        1      3.5      Petrol   \n",
       "4342            BMW    8000.0      sedan      194      2.0      Petrol   \n",
       "4343         Toyota   14200.0      sedan       31      2.2      Petrol   \n",
       "4344     Volkswagen   13500.0        van      124      2.0      Diesel   \n",
       "\n",
       "     Registration  Year              Model  \n",
       "0             yes  1991                320  \n",
       "1             yes  1999       Sprinter 212  \n",
       "2             yes  2003              S 500  \n",
       "3             yes  2007                 Q7  \n",
       "4             yes  2011              Rav 4  \n",
       "...           ...   ...                ...  \n",
       "4340          yes  2014              S 350  \n",
       "4341          yes  1999                535  \n",
       "4342          yes  1985                520  \n",
       "4343          yes  2014            Corolla  \n",
       "4344          yes  2013  T5 (Transporter)   \n",
       "\n",
       "[4272 rows x 9 columns]"
      ]
     },
     "execution_count": 103,
     "metadata": {},
     "output_type": "execute_result"
    }
   ],
   "source": [
    "df"
   ]
  },
  {
   "cell_type": "markdown",
   "id": "5c7ecdc5-b53f-410a-8eae-b0a7bdc5665c",
   "metadata": {},
   "source": [
    " "
   ]
  },
  {
   "cell_type": "markdown",
   "id": "01bb3ce7-9242-4a7c-8bfd-d6f6ee6eb449",
   "metadata": {},
   "source": [
    "### 3. Les données aberrantes"
   ]
  },
  {
   "cell_type": "code",
   "execution_count": 104,
   "id": "1ebb61de-5823-44d1-9043-ac98c2800135",
   "metadata": {},
   "outputs": [],
   "source": [
    "df.rename(columns={'Price':'Prix'}, inplace=True)"
   ]
  },
  {
   "cell_type": "code",
   "execution_count": 105,
   "id": "c087e965-3ffa-4bea-ab04-d25197b38373",
   "metadata": {},
   "outputs": [
    {
     "data": {
      "image/png": "[encoded data removed]",
      "text/plain": [
       "<Figure size 640x480 with 1 Axes>"
      ]
     },
     "metadata": {},
     "output_type": "display_data"
    }
   ],
   "source": [
    "sns.boxplot(df.drop(columns=\"Prix\"))\n",
    "plt.xticks(rotation=90)\n",
    "plt.show()"
   ]
  },
  {
   "cell_type": "code",
   "execution_count": 106,
   "id": "2764e57d-c4bb-4e3f-bc8f-aebf93ef371c",
   "metadata": {},
   "outputs": [
    {
     "data": {
      "image/png": "[encoded data removed]",
      "text/plain": [
       "<Figure size 640x480 with 1 Axes>"
      ]
     },
     "metadata": {},
     "output_type": "display_data"
    }
   ],
   "source": [
    "sns.boxplot(df[\"Prix\"])\n",
    "plt.xticks(rotation=90)\n",
    "plt.show()"
   ]
  },
  {
   "cell_type": "code",
   "execution_count": 107,
   "id": "3bada7c8-4b46-4611-9e26-340ddd3be7cf",
   "metadata": {},
   "outputs": [
    {
     "name": "stdout",
     "output_type": "stream",
     "text": [
      "----- Prix -----\n",
      "!!! Maximum: 41062.5 - Ouliers existants : 377\n",
      "### Nombre de valeurs aberrantes : 377\n",
      "----- Mileage -----\n",
      "!!! Maximum: 440.0 - Ouliers existants : 41\n",
      "### Nombre de valeurs aberrantes : 41\n",
      "----- EngineV -----\n",
      "!!! Maximum: 4.65 - Ouliers existants : 225\n",
      "### Nombre de valeurs aberrantes : 225\n",
      "----- Year -----\n",
      "!!! Minimum: 1989.5 - Ouliers existants : 106\n",
      "### Nombre de valeurs aberrantes : 106\n"
     ]
    }
   ],
   "source": [
    "for i in df:\n",
    "    result = []\n",
    "    if is_numeric_dtype(df[i]):\n",
    "        print(f\"----- {df[i].name} -----\")\n",
    "        Minimum=df[i].min()\n",
    "        Maximum=df[i].max()\n",
    "        IQR=df[i].quantile(0.75)-df[i].quantile(0.25)\n",
    "        outlier_min=df[i].quantile(0.25)-1.5*IQR\n",
    "        outlier_max=df[i].quantile(0.75)+1.5*IQR\n",
    "        outlmin = df[df[i]<outlier_min][df[i].name]\n",
    "        outlmax = df[df[i]>outlier_max][df[i].name]\n",
    "        if (len(outlmin)+len(outlmax) != 0) and (Minimum < outlier_min) :\n",
    "            print(f\"!!! Minimum: {round(outlier_min,2)} - Ouliers existants : {len(outlmin)}\")\n",
    "        elif (len(outlmin)+len(outlmax) != 0) and (Maximum > outlier_max) :\n",
    "            print(f\"!!! Maximum: {round(outlier_max,2)} - Ouliers existants : {len(outlmax)}\")\n",
    "        print(f\"### Nombre de valeurs aberrantes : {len(outlmin)+len(outlmax)}\")"
   ]
  },
  {
   "cell_type": "markdown",
   "id": "8abf918c-0830-49df-9a3d-9ba9aa356508",
   "metadata": {},
   "source": [
    " "
   ]
  },
  {
   "cell_type": "markdown",
   "id": "87fe8db2-4228-48c5-a35a-9f852956fdc8",
   "metadata": {},
   "source": [
    "### 4. Conversion des variables."
   ]
  },
  {
   "cell_type": "code",
   "execution_count": 108,
   "id": "fc98803f-dcf7-49cc-bbd3-0d52fc4c4923",
   "metadata": {},
   "outputs": [],
   "source": [
    "df2 = df.copy()"
   ]
  },
  {
   "cell_type": "code",
   "execution_count": 109,
   "id": "8873c985-5714-49a2-9587-85fa605ccb26",
   "metadata": {},
   "outputs": [
    {
     "data": {
      "text/html": [
       "<div>\n",
       "<style scoped>\n",
       "    .dataframe tbody tr th:only-of-type {\n",
       "        vertical-align: middle;\n",
       "    }\n",
       "\n",
       "    .dataframe tbody tr th {\n",
       "        vertical-align: top;\n",
       "    }\n",
       "\n",
       "    .dataframe thead th {\n",
       "        text-align: right;\n",
       "    }\n",
       "</style>\n",
       "<table border=\"1\" class=\"dataframe\">\n",
       "  <thead>\n",
       "    <tr style=\"text-align: right;\">\n",
       "      <th></th>\n",
       "      <th>Brand</th>\n",
       "      <th>Prix</th>\n",
       "      <th>Body</th>\n",
       "      <th>Mileage</th>\n",
       "      <th>EngineV</th>\n",
       "      <th>Engine Type</th>\n",
       "      <th>Registration</th>\n",
       "      <th>Year</th>\n",
       "      <th>Model</th>\n",
       "    </tr>\n",
       "  </thead>\n",
       "  <tbody>\n",
       "    <tr>\n",
       "      <th>0</th>\n",
       "      <td>1</td>\n",
       "      <td>4200.0</td>\n",
       "      <td>3</td>\n",
       "      <td>277</td>\n",
       "      <td>2.0</td>\n",
       "      <td>3</td>\n",
       "      <td>1</td>\n",
       "      <td>1991</td>\n",
       "      <td>18</td>\n",
       "    </tr>\n",
       "    <tr>\n",
       "      <th>1</th>\n",
       "      <td>2</td>\n",
       "      <td>7900.0</td>\n",
       "      <td>5</td>\n",
       "      <td>427</td>\n",
       "      <td>2.9</td>\n",
       "      <td>0</td>\n",
       "      <td>1</td>\n",
       "      <td>1999</td>\n",
       "      <td>266</td>\n",
       "    </tr>\n",
       "    <tr>\n",
       "      <th>2</th>\n",
       "      <td>2</td>\n",
       "      <td>13300.0</td>\n",
       "      <td>3</td>\n",
       "      <td>358</td>\n",
       "      <td>5.0</td>\n",
       "      <td>1</td>\n",
       "      <td>1</td>\n",
       "      <td>2003</td>\n",
       "      <td>237</td>\n",
       "    </tr>\n",
       "    <tr>\n",
       "      <th>3</th>\n",
       "      <td>0</td>\n",
       "      <td>23000.0</td>\n",
       "      <td>0</td>\n",
       "      <td>240</td>\n",
       "      <td>4.2</td>\n",
       "      <td>3</td>\n",
       "      <td>1</td>\n",
       "      <td>2007</td>\n",
       "      <td>224</td>\n",
       "    </tr>\n",
       "    <tr>\n",
       "      <th>4</th>\n",
       "      <td>5</td>\n",
       "      <td>18300.0</td>\n",
       "      <td>0</td>\n",
       "      <td>120</td>\n",
       "      <td>2.0</td>\n",
       "      <td>3</td>\n",
       "      <td>1</td>\n",
       "      <td>2011</td>\n",
       "      <td>227</td>\n",
       "    </tr>\n",
       "    <tr>\n",
       "      <th>...</th>\n",
       "      <td>...</td>\n",
       "      <td>...</td>\n",
       "      <td>...</td>\n",
       "      <td>...</td>\n",
       "      <td>...</td>\n",
       "      <td>...</td>\n",
       "      <td>...</td>\n",
       "      <td>...</td>\n",
       "      <td>...</td>\n",
       "    </tr>\n",
       "    <tr>\n",
       "      <th>4340</th>\n",
       "      <td>2</td>\n",
       "      <td>125000.0</td>\n",
       "      <td>3</td>\n",
       "      <td>9</td>\n",
       "      <td>3.0</td>\n",
       "      <td>0</td>\n",
       "      <td>1</td>\n",
       "      <td>2014</td>\n",
       "      <td>233</td>\n",
       "    </tr>\n",
       "    <tr>\n",
       "      <th>4341</th>\n",
       "      <td>1</td>\n",
       "      <td>6500.0</td>\n",
       "      <td>3</td>\n",
       "      <td>1</td>\n",
       "      <td>3.5</td>\n",
       "      <td>3</td>\n",
       "      <td>1</td>\n",
       "      <td>1999</td>\n",
       "      <td>37</td>\n",
       "    </tr>\n",
       "    <tr>\n",
       "      <th>4342</th>\n",
       "      <td>1</td>\n",
       "      <td>8000.0</td>\n",
       "      <td>3</td>\n",
       "      <td>194</td>\n",
       "      <td>2.0</td>\n",
       "      <td>3</td>\n",
       "      <td>1</td>\n",
       "      <td>1985</td>\n",
       "      <td>31</td>\n",
       "    </tr>\n",
       "    <tr>\n",
       "      <th>4343</th>\n",
       "      <td>5</td>\n",
       "      <td>14200.0</td>\n",
       "      <td>3</td>\n",
       "      <td>31</td>\n",
       "      <td>2.2</td>\n",
       "      <td>3</td>\n",
       "      <td>1</td>\n",
       "      <td>2014</td>\n",
       "      <td>114</td>\n",
       "    </tr>\n",
       "    <tr>\n",
       "      <th>4344</th>\n",
       "      <td>6</td>\n",
       "      <td>13500.0</td>\n",
       "      <td>5</td>\n",
       "      <td>124</td>\n",
       "      <td>2.0</td>\n",
       "      <td>0</td>\n",
       "      <td>1</td>\n",
       "      <td>2013</td>\n",
       "      <td>284</td>\n",
       "    </tr>\n",
       "  </tbody>\n",
       "</table>\n",
       "<p>4272 rows × 9 columns</p>\n",
       "</div>"
      ],
      "text/plain": [
       "      Brand      Prix  Body  Mileage  EngineV  Engine Type  Registration  \\\n",
       "0         1    4200.0     3      277      2.0            3             1   \n",
       "1         2    7900.0     5      427      2.9            0             1   \n",
       "2         2   13300.0     3      358      5.0            1             1   \n",
       "3         0   23000.0     0      240      4.2            3             1   \n",
       "4         5   18300.0     0      120      2.0            3             1   \n",
       "...     ...       ...   ...      ...      ...          ...           ...   \n",
       "4340      2  125000.0     3        9      3.0            0             1   \n",
       "4341      1    6500.0     3        1      3.5            3             1   \n",
       "4342      1    8000.0     3      194      2.0            3             1   \n",
       "4343      5   14200.0     3       31      2.2            3             1   \n",
       "4344      6   13500.0     5      124      2.0            0             1   \n",
       "\n",
       "      Year  Model  \n",
       "0     1991     18  \n",
       "1     1999    266  \n",
       "2     2003    237  \n",
       "3     2007    224  \n",
       "4     2011    227  \n",
       "...    ...    ...  \n",
       "4340  2014    233  \n",
       "4341  1999     37  \n",
       "4342  1985     31  \n",
       "4343  2014    114  \n",
       "4344  2013    284  \n",
       "\n",
       "[4272 rows x 9 columns]"
      ]
     },
     "execution_count": 109,
     "metadata": {},
     "output_type": "execute_result"
    }
   ],
   "source": [
    "model_label = LabelEncoder()\n",
    "def chainedechar_en_label(vecteur):\n",
    "    return model_label.fit_transform(vecteur)\n",
    "for nom_colonne in df.columns:\n",
    "    if is_object_dtype(df[nom_colonne]):\n",
    "        df[nom_colonne] = chainedechar_en_label(df[nom_colonne])\n",
    "df"
   ]
  },
  {
   "cell_type": "markdown",
   "id": "f18b826c-0c98-43c0-8124-88cef4744dad",
   "metadata": {},
   "source": [
    " "
   ]
  },
  {
   "cell_type": "markdown",
   "id": "f705c4e1-4f23-43ec-b715-7e53d43117b0",
   "metadata": {},
   "source": [
    "### 5. Analyse statistique univariée et bivariée."
   ]
  },
  {
   "cell_type": "code",
   "execution_count": 110,
   "id": "d74d43a6-e977-41ce-8a18-ef065e292789",
   "metadata": {},
   "outputs": [
    {
     "data": {
      "text/html": [
       "<div>\n",
       "<style scoped>\n",
       "    .dataframe tbody tr th:only-of-type {\n",
       "        vertical-align: middle;\n",
       "    }\n",
       "\n",
       "    .dataframe tbody tr th {\n",
       "        vertical-align: top;\n",
       "    }\n",
       "\n",
       "    .dataframe thead th {\n",
       "        text-align: right;\n",
       "    }\n",
       "</style>\n",
       "<table border=\"1\" class=\"dataframe\">\n",
       "  <thead>\n",
       "    <tr style=\"text-align: right;\">\n",
       "      <th></th>\n",
       "      <th>Brand</th>\n",
       "      <th>Prix</th>\n",
       "      <th>Body</th>\n",
       "      <th>Mileage</th>\n",
       "      <th>EngineV</th>\n",
       "      <th>Engine Type</th>\n",
       "      <th>Registration</th>\n",
       "      <th>Year</th>\n",
       "      <th>Model</th>\n",
       "    </tr>\n",
       "  </thead>\n",
       "  <tbody>\n",
       "    <tr>\n",
       "      <th>count</th>\n",
       "      <td>4272.000000</td>\n",
       "      <td>4272.000000</td>\n",
       "      <td>4272.000000</td>\n",
       "      <td>4272.000000</td>\n",
       "      <td>4272.00000</td>\n",
       "      <td>4272.000000</td>\n",
       "      <td>4272.000000</td>\n",
       "      <td>4272.000000</td>\n",
       "      <td>4272.000000</td>\n",
       "    </tr>\n",
       "    <tr>\n",
       "      <th>mean</th>\n",
       "      <td>3.161049</td>\n",
       "      <td>18680.058979</td>\n",
       "      <td>2.562266</td>\n",
       "      <td>163.207631</td>\n",
       "      <td>2.76614</td>\n",
       "      <td>1.297987</td>\n",
       "      <td>0.906835</td>\n",
       "      <td>2006.419944</td>\n",
       "      <td>165.372191</td>\n",
       "    </tr>\n",
       "    <tr>\n",
       "      <th>std</th>\n",
       "      <td>2.083214</td>\n",
       "      <td>24364.870212</td>\n",
       "      <td>1.647987</td>\n",
       "      <td>105.160123</td>\n",
       "      <td>5.01962</td>\n",
       "      <td>1.361722</td>\n",
       "      <td>0.290697</td>\n",
       "      <td>6.694256</td>\n",
       "      <td>88.603550</td>\n",
       "    </tr>\n",
       "    <tr>\n",
       "      <th>min</th>\n",
       "      <td>0.000000</td>\n",
       "      <td>600.000000</td>\n",
       "      <td>0.000000</td>\n",
       "      <td>0.000000</td>\n",
       "      <td>0.60000</td>\n",
       "      <td>0.000000</td>\n",
       "      <td>0.000000</td>\n",
       "      <td>1969.000000</td>\n",
       "      <td>0.000000</td>\n",
       "    </tr>\n",
       "    <tr>\n",
       "      <th>25%</th>\n",
       "      <td>1.000000</td>\n",
       "      <td>7000.000000</td>\n",
       "      <td>1.000000</td>\n",
       "      <td>90.000000</td>\n",
       "      <td>1.90000</td>\n",
       "      <td>0.000000</td>\n",
       "      <td>1.000000</td>\n",
       "      <td>2003.000000</td>\n",
       "      <td>101.000000</td>\n",
       "    </tr>\n",
       "    <tr>\n",
       "      <th>50%</th>\n",
       "      <td>3.000000</td>\n",
       "      <td>11500.000000</td>\n",
       "      <td>3.000000</td>\n",
       "      <td>157.000000</td>\n",
       "      <td>2.20000</td>\n",
       "      <td>1.000000</td>\n",
       "      <td>1.000000</td>\n",
       "      <td>2008.000000</td>\n",
       "      <td>163.000000</td>\n",
       "    </tr>\n",
       "    <tr>\n",
       "      <th>75%</th>\n",
       "      <td>5.000000</td>\n",
       "      <td>20625.000000</td>\n",
       "      <td>3.000000</td>\n",
       "      <td>230.000000</td>\n",
       "      <td>3.00000</td>\n",
       "      <td>3.000000</td>\n",
       "      <td>1.000000</td>\n",
       "      <td>2012.000000</td>\n",
       "      <td>227.000000</td>\n",
       "    </tr>\n",
       "    <tr>\n",
       "      <th>max</th>\n",
       "      <td>6.000000</td>\n",
       "      <td>300000.000000</td>\n",
       "      <td>5.000000</td>\n",
       "      <td>980.000000</td>\n",
       "      <td>99.99000</td>\n",
       "      <td>3.000000</td>\n",
       "      <td>1.000000</td>\n",
       "      <td>2016.000000</td>\n",
       "      <td>311.000000</td>\n",
       "    </tr>\n",
       "  </tbody>\n",
       "</table>\n",
       "</div>"
      ],
      "text/plain": [
       "             Brand           Prix         Body      Mileage     EngineV  \\\n",
       "count  4272.000000    4272.000000  4272.000000  4272.000000  4272.00000   \n",
       "mean      3.161049   18680.058979     2.562266   163.207631     2.76614   \n",
       "std       2.083214   24364.870212     1.647987   105.160123     5.01962   \n",
       "min       0.000000     600.000000     0.000000     0.000000     0.60000   \n",
       "25%       1.000000    7000.000000     1.000000    90.000000     1.90000   \n",
       "50%       3.000000   11500.000000     3.000000   157.000000     2.20000   \n",
       "75%       5.000000   20625.000000     3.000000   230.000000     3.00000   \n",
       "max       6.000000  300000.000000     5.000000   980.000000    99.99000   \n",
       "\n",
       "       Engine Type  Registration         Year        Model  \n",
       "count  4272.000000   4272.000000  4272.000000  4272.000000  \n",
       "mean      1.297987      0.906835  2006.419944   165.372191  \n",
       "std       1.361722      0.290697     6.694256    88.603550  \n",
       "min       0.000000      0.000000  1969.000000     0.000000  \n",
       "25%       0.000000      1.000000  2003.000000   101.000000  \n",
       "50%       1.000000      1.000000  2008.000000   163.000000  \n",
       "75%       3.000000      1.000000  2012.000000   227.000000  \n",
       "max       3.000000      1.000000  2016.000000   311.000000  "
      ]
     },
     "execution_count": 110,
     "metadata": {},
     "output_type": "execute_result"
    }
   ],
   "source": [
    "df.describe(include='all')"
   ]
  },
  {
   "cell_type": "code",
   "execution_count": 111,
   "id": "5fb16622-4686-4d31-95b2-10d63da7f2a1",
   "metadata": {},
   "outputs": [
    {
     "data": {
      "text/plain": [
       "array([[<Axes: title={'center': 'Brand'}>,\n",
       "        <Axes: title={'center': 'Prix'}>,\n",
       "        <Axes: title={'center': 'Body'}>],\n",
       "       [<Axes: title={'center': 'Mileage'}>,\n",
       "        <Axes: title={'center': 'EngineV'}>,\n",
       "        <Axes: title={'center': 'Engine Type'}>],\n",
       "       [<Axes: title={'center': 'Registration'}>,\n",
       "        <Axes: title={'center': 'Year'}>,\n",
       "        <Axes: title={'center': 'Model'}>]], dtype=object)"
      ]
     },
     "execution_count": 111,
     "metadata": {},
     "output_type": "execute_result"
    },
    {
     "data": {
      "image/png": "[encoded data removed]",
      "text/plain": [
       "<Figure size 640x480 with 9 Axes>"
      ]
     },
     "metadata": {},
     "output_type": "display_data"
    }
   ],
   "source": [
    "df.hist()"
   ]
  },
  {
   "cell_type": "code",
   "execution_count": 112,
   "id": "a5e2184a-d6bd-4b91-b8f9-94deee1725a3",
   "metadata": {},
   "outputs": [
    {
     "data": {
      "text/html": [
       "<div>\n",
       "<style scoped>\n",
       "    .dataframe tbody tr th:only-of-type {\n",
       "        vertical-align: middle;\n",
       "    }\n",
       "\n",
       "    .dataframe tbody tr th {\n",
       "        vertical-align: top;\n",
       "    }\n",
       "\n",
       "    .dataframe thead th {\n",
       "        text-align: right;\n",
       "    }\n",
       "</style>\n",
       "<table border=\"1\" class=\"dataframe\">\n",
       "  <thead>\n",
       "    <tr style=\"text-align: right;\">\n",
       "      <th></th>\n",
       "      <th>Brand</th>\n",
       "      <th>Prix</th>\n",
       "      <th>Body</th>\n",
       "      <th>Mileage</th>\n",
       "      <th>EngineV</th>\n",
       "      <th>Engine Type</th>\n",
       "      <th>Registration</th>\n",
       "      <th>Year</th>\n",
       "      <th>Model</th>\n",
       "    </tr>\n",
       "  </thead>\n",
       "  <tbody>\n",
       "    <tr>\n",
       "      <th>0</th>\n",
       "      <td>-1.037484</td>\n",
       "      <td>-0.594370</td>\n",
       "      <td>0.265649</td>\n",
       "      <td>1.082213</td>\n",
       "      <td>-0.152647</td>\n",
       "      <td>1.250044</td>\n",
       "      <td>0.320525</td>\n",
       "      <td>-2.303728</td>\n",
       "      <td>-1.663471</td>\n",
       "    </tr>\n",
       "    <tr>\n",
       "      <th>1</th>\n",
       "      <td>-0.557401</td>\n",
       "      <td>-0.442494</td>\n",
       "      <td>1.479393</td>\n",
       "      <td>2.508777</td>\n",
       "      <td>0.026670</td>\n",
       "      <td>-0.953307</td>\n",
       "      <td>0.320525</td>\n",
       "      <td>-1.108534</td>\n",
       "      <td>1.135841</td>\n",
       "    </tr>\n",
       "    <tr>\n",
       "      <th>2</th>\n",
       "      <td>-0.557401</td>\n",
       "      <td>-0.220838</td>\n",
       "      <td>0.265649</td>\n",
       "      <td>1.852557</td>\n",
       "      <td>0.445078</td>\n",
       "      <td>-0.218856</td>\n",
       "      <td>0.320525</td>\n",
       "      <td>-0.510937</td>\n",
       "      <td>0.808503</td>\n",
       "    </tr>\n",
       "    <tr>\n",
       "      <th>3</th>\n",
       "      <td>-1.517568</td>\n",
       "      <td>0.177323</td>\n",
       "      <td>-1.554968</td>\n",
       "      <td>0.730328</td>\n",
       "      <td>0.285685</td>\n",
       "      <td>1.250044</td>\n",
       "      <td>0.320525</td>\n",
       "      <td>0.086660</td>\n",
       "      <td>0.661764</td>\n",
       "    </tr>\n",
       "    <tr>\n",
       "      <th>4</th>\n",
       "      <td>0.882851</td>\n",
       "      <td>-0.015600</td>\n",
       "      <td>-1.554968</td>\n",
       "      <td>-0.410923</td>\n",
       "      <td>-0.152647</td>\n",
       "      <td>1.250044</td>\n",
       "      <td>0.320525</td>\n",
       "      <td>0.684257</td>\n",
       "      <td>0.695627</td>\n",
       "    </tr>\n",
       "    <tr>\n",
       "      <th>5</th>\n",
       "      <td>-0.557401</td>\n",
       "      <td>7.442690</td>\n",
       "      <td>-1.554968</td>\n",
       "      <td>-1.552173</td>\n",
       "      <td>0.544699</td>\n",
       "      <td>1.250044</td>\n",
       "      <td>0.320525</td>\n",
       "      <td>1.431253</td>\n",
       "      <td>-0.241240</td>\n",
       "    </tr>\n",
       "    <tr>\n",
       "      <th>6</th>\n",
       "      <td>-1.037484</td>\n",
       "      <td>-0.516380</td>\n",
       "      <td>0.265649</td>\n",
       "      <td>2.613391</td>\n",
       "      <td>-0.152647</td>\n",
       "      <td>-0.218856</td>\n",
       "      <td>0.320525</td>\n",
       "      <td>-1.407333</td>\n",
       "      <td>-1.663471</td>\n",
       "    </tr>\n",
       "    <tr>\n",
       "      <th>7</th>\n",
       "      <td>-1.517568</td>\n",
       "      <td>-0.183895</td>\n",
       "      <td>0.872521</td>\n",
       "      <td>0.349911</td>\n",
       "      <td>-0.013178</td>\n",
       "      <td>-0.953307</td>\n",
       "      <td>0.320525</td>\n",
       "      <td>-0.062739</td>\n",
       "      <td>-1.121669</td>\n",
       "    </tr>\n",
       "    <tr>\n",
       "      <th>8</th>\n",
       "      <td>0.402767</td>\n",
       "      <td>-0.323498</td>\n",
       "      <td>0.872521</td>\n",
       "      <td>0.283338</td>\n",
       "      <td>-0.252268</td>\n",
       "      <td>-0.953307</td>\n",
       "      <td>0.320525</td>\n",
       "      <td>0.833656</td>\n",
       "      <td>0.379576</td>\n",
       "    </tr>\n",
       "    <tr>\n",
       "      <th>9</th>\n",
       "      <td>1.362934</td>\n",
       "      <td>-0.709303</td>\n",
       "      <td>-0.341223</td>\n",
       "      <td>0.464036</td>\n",
       "      <td>-0.192495</td>\n",
       "      <td>-0.218856</td>\n",
       "      <td>-3.119883</td>\n",
       "      <td>-1.108534</td>\n",
       "      <td>-0.184802</td>\n",
       "    </tr>\n",
       "  </tbody>\n",
       "</table>\n",
       "</div>"
      ],
      "text/plain": [
       "      Brand      Prix      Body   Mileage   EngineV  Engine Type  \\\n",
       "0 -1.037484 -0.594370  0.265649  1.082213 -0.152647     1.250044   \n",
       "1 -0.557401 -0.442494  1.479393  2.508777  0.026670    -0.953307   \n",
       "2 -0.557401 -0.220838  0.265649  1.852557  0.445078    -0.218856   \n",
       "3 -1.517568  0.177323 -1.554968  0.730328  0.285685     1.250044   \n",
       "4  0.882851 -0.015600 -1.554968 -0.410923 -0.152647     1.250044   \n",
       "5 -0.557401  7.442690 -1.554968 -1.552173  0.544699     1.250044   \n",
       "6 -1.037484 -0.516380  0.265649  2.613391 -0.152647    -0.218856   \n",
       "7 -1.517568 -0.183895  0.872521  0.349911 -0.013178    -0.953307   \n",
       "8  0.402767 -0.323498  0.872521  0.283338 -0.252268    -0.953307   \n",
       "9  1.362934 -0.709303 -0.341223  0.464036 -0.192495    -0.218856   \n",
       "\n",
       "   Registration      Year     Model  \n",
       "0      0.320525 -2.303728 -1.663471  \n",
       "1      0.320525 -1.108534  1.135841  \n",
       "2      0.320525 -0.510937  0.808503  \n",
       "3      0.320525  0.086660  0.661764  \n",
       "4      0.320525  0.684257  0.695627  \n",
       "5      0.320525  1.431253 -0.241240  \n",
       "6      0.320525 -1.407333 -1.663471  \n",
       "7      0.320525 -0.062739 -1.121669  \n",
       "8      0.320525  0.833656  0.379576  \n",
       "9     -3.119883 -1.108534 -0.184802  "
      ]
     },
     "execution_count": 112,
     "metadata": {},
     "output_type": "execute_result"
    }
   ],
   "source": [
    "scaler = StandardScaler()\n",
    "df = pd.DataFrame(scaler.fit_transform(df), columns=df.columns)\n",
    "df.head(10)"
   ]
  },
  {
   "cell_type": "code",
   "execution_count": 113,
   "id": "b72ac4c3-2a45-4486-abad-169b37873253",
   "metadata": {},
   "outputs": [
    {
     "data": {
      "text/html": [
       "<div>\n",
       "<style scoped>\n",
       "    .dataframe tbody tr th:only-of-type {\n",
       "        vertical-align: middle;\n",
       "    }\n",
       "\n",
       "    .dataframe tbody tr th {\n",
       "        vertical-align: top;\n",
       "    }\n",
       "\n",
       "    .dataframe thead th {\n",
       "        text-align: right;\n",
       "    }\n",
       "</style>\n",
       "<table border=\"1\" class=\"dataframe\">\n",
       "  <thead>\n",
       "    <tr style=\"text-align: right;\">\n",
       "      <th></th>\n",
       "      <th>Brand</th>\n",
       "      <th>Prix</th>\n",
       "      <th>Body</th>\n",
       "      <th>Mileage</th>\n",
       "      <th>EngineV</th>\n",
       "      <th>Engine Type</th>\n",
       "      <th>Registration</th>\n",
       "      <th>Year</th>\n",
       "      <th>Model</th>\n",
       "    </tr>\n",
       "  </thead>\n",
       "  <tbody>\n",
       "    <tr>\n",
       "      <th>Brand</th>\n",
       "      <td>1.000000</td>\n",
       "      <td>-0.145753</td>\n",
       "      <td>0.091058</td>\n",
       "      <td>-0.089906</td>\n",
       "      <td>-0.048735</td>\n",
       "      <td>-0.046139</td>\n",
       "      <td>0.157009</td>\n",
       "      <td>0.127819</td>\n",
       "      <td>0.340401</td>\n",
       "    </tr>\n",
       "    <tr>\n",
       "      <th>Prix</th>\n",
       "      <td>-0.145753</td>\n",
       "      <td>1.000000</td>\n",
       "      <td>-0.301536</td>\n",
       "      <td>-0.441233</td>\n",
       "      <td>0.052575</td>\n",
       "      <td>0.036661</td>\n",
       "      <td>0.189231</td>\n",
       "      <td>0.466997</td>\n",
       "      <td>0.124992</td>\n",
       "    </tr>\n",
       "    <tr>\n",
       "      <th>Body</th>\n",
       "      <td>0.091058</td>\n",
       "      <td>-0.301536</td>\n",
       "      <td>1.000000</td>\n",
       "      <td>0.281913</td>\n",
       "      <td>-0.047162</td>\n",
       "      <td>-0.198837</td>\n",
       "      <td>-0.072929</td>\n",
       "      <td>-0.166364</td>\n",
       "      <td>-0.089791</td>\n",
       "    </tr>\n",
       "    <tr>\n",
       "      <th>Mileage</th>\n",
       "      <td>-0.089906</td>\n",
       "      <td>-0.441233</td>\n",
       "      <td>0.281913</td>\n",
       "      <td>1.000000</td>\n",
       "      <td>0.021779</td>\n",
       "      <td>-0.184086</td>\n",
       "      <td>-0.222102</td>\n",
       "      <td>-0.661078</td>\n",
       "      <td>-0.110701</td>\n",
       "    </tr>\n",
       "    <tr>\n",
       "      <th>EngineV</th>\n",
       "      <td>-0.048735</td>\n",
       "      <td>0.052575</td>\n",
       "      <td>-0.047162</td>\n",
       "      <td>0.021779</td>\n",
       "      <td>1.000000</td>\n",
       "      <td>0.030133</td>\n",
       "      <td>-0.007584</td>\n",
       "      <td>-0.023687</td>\n",
       "      <td>0.027104</td>\n",
       "    </tr>\n",
       "    <tr>\n",
       "      <th>Engine Type</th>\n",
       "      <td>-0.046139</td>\n",
       "      <td>0.036661</td>\n",
       "      <td>-0.198837</td>\n",
       "      <td>-0.184086</td>\n",
       "      <td>0.030133</td>\n",
       "      <td>1.000000</td>\n",
       "      <td>0.124565</td>\n",
       "      <td>-0.049793</td>\n",
       "      <td>-0.194818</td>\n",
       "    </tr>\n",
       "    <tr>\n",
       "      <th>Registration</th>\n",
       "      <td>0.157009</td>\n",
       "      <td>0.189231</td>\n",
       "      <td>-0.072929</td>\n",
       "      <td>-0.222102</td>\n",
       "      <td>-0.007584</td>\n",
       "      <td>0.124565</td>\n",
       "      <td>1.000000</td>\n",
       "      <td>0.240169</td>\n",
       "      <td>0.176544</td>\n",
       "    </tr>\n",
       "    <tr>\n",
       "      <th>Year</th>\n",
       "      <td>0.127819</td>\n",
       "      <td>0.466997</td>\n",
       "      <td>-0.166364</td>\n",
       "      <td>-0.661078</td>\n",
       "      <td>-0.023687</td>\n",
       "      <td>-0.049793</td>\n",
       "      <td>0.240169</td>\n",
       "      <td>1.000000</td>\n",
       "      <td>0.261566</td>\n",
       "    </tr>\n",
       "    <tr>\n",
       "      <th>Model</th>\n",
       "      <td>0.340401</td>\n",
       "      <td>0.124992</td>\n",
       "      <td>-0.089791</td>\n",
       "      <td>-0.110701</td>\n",
       "      <td>0.027104</td>\n",
       "      <td>-0.194818</td>\n",
       "      <td>0.176544</td>\n",
       "      <td>0.261566</td>\n",
       "      <td>1.000000</td>\n",
       "    </tr>\n",
       "  </tbody>\n",
       "</table>\n",
       "</div>"
      ],
      "text/plain": [
       "                 Brand      Prix      Body   Mileage   EngineV  Engine Type  \\\n",
       "Brand         1.000000 -0.145753  0.091058 -0.089906 -0.048735    -0.046139   \n",
       "Prix         -0.145753  1.000000 -0.301536 -0.441233  0.052575     0.036661   \n",
       "Body          0.091058 -0.301536  1.000000  0.281913 -0.047162    -0.198837   \n",
       "Mileage      -0.089906 -0.441233  0.281913  1.000000  0.021779    -0.184086   \n",
       "EngineV      -0.048735  0.052575 -0.047162  0.021779  1.000000     0.030133   \n",
       "Engine Type  -0.046139  0.036661 -0.198837 -0.184086  0.030133     1.000000   \n",
       "Registration  0.157009  0.189231 -0.072929 -0.222102 -0.007584     0.124565   \n",
       "Year          0.127819  0.466997 -0.166364 -0.661078 -0.023687    -0.049793   \n",
       "Model         0.340401  0.124992 -0.089791 -0.110701  0.027104    -0.194818   \n",
       "\n",
       "              Registration      Year     Model  \n",
       "Brand             0.157009  0.127819  0.340401  \n",
       "Prix              0.189231  0.466997  0.124992  \n",
       "Body             -0.072929 -0.166364 -0.089791  \n",
       "Mileage          -0.222102 -0.661078 -0.110701  \n",
       "EngineV          -0.007584 -0.023687  0.027104  \n",
       "Engine Type       0.124565 -0.049793 -0.194818  \n",
       "Registration      1.000000  0.240169  0.176544  \n",
       "Year              0.240169  1.000000  0.261566  \n",
       "Model             0.176544  0.261566  1.000000  "
      ]
     },
     "execution_count": 113,
     "metadata": {},
     "output_type": "execute_result"
    }
   ],
   "source": [
    "df.corr()"
   ]
  },
  {
   "cell_type": "code",
   "execution_count": 114,
   "id": "ca4fe27e-05a7-4659-b736-b3bd044ef44c",
   "metadata": {},
   "outputs": [
    {
     "data": {
      "image/png": "[encoded data removed]",
      "text/plain": [
       "<Figure size 700x700 with 2 Axes>"
      ]
     },
     "metadata": {},
     "output_type": "display_data"
    }
   ],
   "source": [
    "plt.figure(figsize=(7,7))\n",
    "sns.heatmap(df.corr(), annot=True, cmap='coolwarm')\n",
    "plt.title('Matrice de corrélation de df')\n",
    "plt.show()"
   ]
  },
  {
   "cell_type": "code",
   "execution_count": 115,
   "id": "fdd4c35a-538b-4d93-a2a4-689d769173bb",
   "metadata": {},
   "outputs": [
    {
     "data": {
      "text/html": [
       "<div>\n",
       "<style scoped>\n",
       "    .dataframe tbody tr th:only-of-type {\n",
       "        vertical-align: middle;\n",
       "    }\n",
       "\n",
       "    .dataframe tbody tr th {\n",
       "        vertical-align: top;\n",
       "    }\n",
       "\n",
       "    .dataframe thead th {\n",
       "        text-align: right;\n",
       "    }\n",
       "</style>\n",
       "<table border=\"1\" class=\"dataframe\">\n",
       "  <thead>\n",
       "    <tr style=\"text-align: right;\">\n",
       "      <th></th>\n",
       "      <th>features</th>\n",
       "      <th>VIF</th>\n",
       "    </tr>\n",
       "  </thead>\n",
       "  <tbody>\n",
       "    <tr>\n",
       "      <th>0</th>\n",
       "      <td>Brand</td>\n",
       "      <td>1.249519</td>\n",
       "    </tr>\n",
       "    <tr>\n",
       "      <th>1</th>\n",
       "      <td>Prix</td>\n",
       "      <td>1.503791</td>\n",
       "    </tr>\n",
       "    <tr>\n",
       "      <th>2</th>\n",
       "      <td>Body</td>\n",
       "      <td>1.196599</td>\n",
       "    </tr>\n",
       "    <tr>\n",
       "      <th>3</th>\n",
       "      <td>Mileage</td>\n",
       "      <td>2.082184</td>\n",
       "    </tr>\n",
       "    <tr>\n",
       "      <th>4</th>\n",
       "      <td>EngineV</td>\n",
       "      <td>1.011602</td>\n",
       "    </tr>\n",
       "    <tr>\n",
       "      <th>5</th>\n",
       "      <td>Engine Type</td>\n",
       "      <td>1.189749</td>\n",
       "    </tr>\n",
       "    <tr>\n",
       "      <th>6</th>\n",
       "      <td>Registration</td>\n",
       "      <td>1.133599</td>\n",
       "    </tr>\n",
       "    <tr>\n",
       "      <th>7</th>\n",
       "      <td>Year</td>\n",
       "      <td>2.131044</td>\n",
       "    </tr>\n",
       "    <tr>\n",
       "      <th>8</th>\n",
       "      <td>Model</td>\n",
       "      <td>1.294851</td>\n",
       "    </tr>\n",
       "  </tbody>\n",
       "</table>\n",
       "</div>"
      ],
      "text/plain": [
       "       features       VIF\n",
       "0         Brand  1.249519\n",
       "1          Prix  1.503791\n",
       "2          Body  1.196599\n",
       "3       Mileage  2.082184\n",
       "4       EngineV  1.011602\n",
       "5   Engine Type  1.189749\n",
       "6  Registration  1.133599\n",
       "7          Year  2.131044\n",
       "8         Model  1.294851"
      ]
     },
     "execution_count": 115,
     "metadata": {},
     "output_type": "execute_result"
    }
   ],
   "source": [
    "vif = pd.DataFrame()\n",
    "vif[\"features\"] = df.columns\n",
    "vif[\"VIF\"] = [variance_inflation_factor(df.values, i) for i in range(df.shape[1])]\n",
    "vif"
   ]
  },
  {
   "cell_type": "markdown",
   "id": "12f8ce77-7435-435b-96bb-f6e20c76aca3",
   "metadata": {},
   "source": [
    "La colinéarité entre les variables est acceptable. "
   ]
  },
  {
   "cell_type": "markdown",
   "id": "2574ce87-11f1-47e3-bac2-fcbc3d114caa",
   "metadata": {},
   "source": [
    " "
   ]
  },
  {
   "cell_type": "markdown",
   "id": "13e11d75-4580-46ec-9597-241e0b347935",
   "metadata": {},
   "source": [
    "# 2. Les modélisations"
   ]
  },
  {
   "cell_type": "markdown",
   "id": "20be3ee1-034b-4b5c-ace5-ad3efe382e46",
   "metadata": {},
   "source": [
    "## 1. La régression linéaire simple"
   ]
  },
  {
   "cell_type": "markdown",
   "id": "ef4d6c1b-948e-49b2-9e76-2fa14b07118e",
   "metadata": {},
   "source": [
    "### 1. Préparation des données"
   ]
  },
  {
   "cell_type": "code",
   "execution_count": 116,
   "id": "2cb726db-2e9e-4764-b164-97e31bd4baa4",
   "metadata": {},
   "outputs": [],
   "source": [
    "y = df['Prix']\n",
    "X = df.drop(columns=['Prix'])"
   ]
  },
  {
   "cell_type": "code",
   "execution_count": 131,
   "id": "17e51fcd-eec6-414e-8727-3e30228127dd",
   "metadata": {},
   "outputs": [],
   "source": [
    "Xb = X[['Brand']]\n",
    "Xm = X[['Mileage']]\n",
    "Xe = X[['EngineV']]\n",
    "Xy = X[['Year']]"
   ]
  },
  {
   "cell_type": "markdown",
   "id": "6c15cf58-1bad-46db-b513-399ed630dfad",
   "metadata": {},
   "source": [
    " "
   ]
  },
  {
   "cell_type": "markdown",
   "id": "8ba862f6-f134-4f75-b689-5e29921db78c",
   "metadata": {},
   "source": [
    "### 2. Visualisation des données"
   ]
  },
  {
   "cell_type": "code",
   "execution_count": 118,
   "id": "09efa79f-db29-4aef-8392-faede9535649",
   "metadata": {},
   "outputs": [
    {
     "data": {
      "image/png": "[encoded data removed]",
      "text/plain": [
       "<Figure size 900x400 with 1 Axes>"
      ]
     },
     "metadata": {},
     "output_type": "display_data"
    }
   ],
   "source": [
    "fig, ax = plt.subplots(figsize=(9,4))\n",
    "ax.scatter(df2['Brand'], df2['Prix'])\n",
    "ax.set_xlabel(df2['Brand'].name)\n",
    "ax.set_ylabel(y.name)\n",
    "plt.show()"
   ]
  },
  {
   "cell_type": "code",
   "execution_count": 119,
   "id": "41314628-d48f-464d-b53c-6777e3d1cfa1",
   "metadata": {},
   "outputs": [
    {
     "data": {
      "image/png": "[encoded data removed]",
      "text/plain": [
       "<Figure size 900x400 with 1 Axes>"
      ]
     },
     "metadata": {},
     "output_type": "display_data"
    }
   ],
   "source": [
    "fig, ax = plt.subplots(figsize=(9,4))\n",
    "ax.scatter(df2['Mileage'], df2['Prix'])\n",
    "ax.set_xlabel(df2['Mileage'].name)\n",
    "ax.set_ylabel(y.name)\n",
    "plt.show()"
   ]
  },
  {
   "cell_type": "code",
   "execution_count": 120,
   "id": "461baa1f-3684-41ba-aa50-4b2a0d3bf47a",
   "metadata": {},
   "outputs": [
    {
     "data": {
      "image/png": "[encoded data removed]",
      "text/plain": [
       "<Figure size 900x400 with 1 Axes>"
      ]
     },
     "metadata": {},
     "output_type": "display_data"
    }
   ],
   "source": [
    "fig, ax = plt.subplots(figsize=(9,4))\n",
    "ax.scatter(df2['EngineV'], df2['Prix'])\n",
    "ax.set_xlabel(df2['EngineV'].name)\n",
    "ax.set_ylabel(y.name)\n",
    "plt.show()"
   ]
  },
  {
   "cell_type": "code",
   "execution_count": 121,
   "id": "747a5346-42b6-4f39-9f32-2da3e956e784",
   "metadata": {},
   "outputs": [
    {
     "data": {
      "image/png": "[encoded data removed]",
      "text/plain": [
       "<Figure size 900x400 with 1 Axes>"
      ]
     },
     "metadata": {},
     "output_type": "display_data"
    }
   ],
   "source": [
    "fig, ax = plt.subplots(figsize=(9,4))\n",
    "ax.scatter(df2['Year'], df2['Prix'])\n",
    "ax.set_xlabel(df2['Year'].name)\n",
    "ax.set_ylabel(y.name)\n",
    "plt.show()"
   ]
  },
  {
   "cell_type": "markdown",
   "id": "3552f7d5-0338-4519-8345-b92ae0efeead",
   "metadata": {},
   "source": [
    " "
   ]
  },
  {
   "cell_type": "markdown",
   "id": "7973acb9-b9ce-426b-b40e-432893e4895b",
   "metadata": {},
   "source": [
    "### 2. Création du set de données pour la modélisation (70% : train, 30% : test)."
   ]
  },
  {
   "cell_type": "code",
   "execution_count": 122,
   "id": "6d692bc8-41ea-48a6-a3d1-b5614f556083",
   "metadata": {},
   "outputs": [],
   "source": [
    "def train_test_set(X, y):\n",
    "    X_train, X_test, y_train, y_test = train_test_split(X, y, test_size=0.3)\n",
    "    return X_train, X_test, y_train, y_test"
   ]
  },
  {
   "cell_type": "markdown",
   "id": "a336cb23-f2b3-4264-8d37-0150c8dc6844",
   "metadata": {},
   "source": [
    "### 3. Application d'un modèle de régression linéaire simple."
   ]
  },
  {
   "cell_type": "code",
   "execution_count": 123,
   "id": "27883191-64ca-4c66-9729-889100e6f109",
   "metadata": {},
   "outputs": [],
   "source": [
    "def modele_reg(X_train, y_train, X_test):\n",
    "    model = LinearRegression().fit(X_train, y_train)\n",
    "    predict = model.predict(X_test)\n",
    "    return predict"
   ]
  },
  {
   "cell_type": "markdown",
   "id": "de8d13a6-9b61-4f7f-94fa-83b195e50145",
   "metadata": {},
   "source": [
    "### 4. Evaluation du modèle."
   ]
  },
  {
   "cell_type": "code",
   "execution_count": 124,
   "id": "cf946153-6561-43e6-bbb4-0dbf463e4eb7",
   "metadata": {},
   "outputs": [],
   "source": [
    "def evaluation(y_test, prediction):\n",
    "    mse = mean_squared_error(y_test, prediction)\n",
    "    rmse = mean_squared_error(y_test, prediction, squared=False)\n",
    "    r2 = r2_score(y_test, prediction)\n",
    "    return mse, rmse, r2"
   ]
  },
  {
   "cell_type": "markdown",
   "id": "69b86fb2-d0fb-42cb-9aaa-04561365df98",
   "metadata": {},
   "source": [
    "### 5. Résultat"
   ]
  },
  {
   "cell_type": "code",
   "execution_count": 125,
   "id": "1ae73846-35c5-4119-8ddc-68b3e3b3fcab",
   "metadata": {},
   "outputs": [],
   "source": [
    "def resultats(X, y):\n",
    "    X_train, X_test, y_train, y_test = train_test_set(X, y)\n",
    "    prediction = modele_reg(X_train, y_train, X_test)\n",
    "    mse, rmse, r2 = evaluation(y_test, prediction)\n",
    "    return mse, rmse, r2"
   ]
  },
  {
   "cell_type": "code",
   "execution_count": 126,
   "id": "c8feec06-fa2d-48f7-a123-a30ac06193ef",
   "metadata": {},
   "outputs": [
    {
     "data": {
      "text/html": [
       "<div>\n",
       "<style scoped>\n",
       "    .dataframe tbody tr th:only-of-type {\n",
       "        vertical-align: middle;\n",
       "    }\n",
       "\n",
       "    .dataframe tbody tr th {\n",
       "        vertical-align: top;\n",
       "    }\n",
       "\n",
       "    .dataframe thead th {\n",
       "        text-align: right;\n",
       "    }\n",
       "</style>\n",
       "<table border=\"1\" class=\"dataframe\">\n",
       "  <thead>\n",
       "    <tr style=\"text-align: right;\">\n",
       "      <th></th>\n",
       "      <th>MSE</th>\n",
       "      <th>RMSE</th>\n",
       "      <th>R²</th>\n",
       "    </tr>\n",
       "  </thead>\n",
       "  <tbody>\n",
       "    <tr>\n",
       "      <th>Brand</th>\n",
       "      <td>0.742078</td>\n",
       "      <td>0.861440</td>\n",
       "      <td>0.017283</td>\n",
       "    </tr>\n",
       "    <tr>\n",
       "      <th>Mileage</th>\n",
       "      <td>1.080962</td>\n",
       "      <td>1.039693</td>\n",
       "      <td>0.167561</td>\n",
       "    </tr>\n",
       "    <tr>\n",
       "      <th>EngineV</th>\n",
       "      <td>0.963595</td>\n",
       "      <td>0.981629</td>\n",
       "      <td>-0.014473</td>\n",
       "    </tr>\n",
       "    <tr>\n",
       "      <th>Year</th>\n",
       "      <td>0.916659</td>\n",
       "      <td>0.957423</td>\n",
       "      <td>0.204911</td>\n",
       "    </tr>\n",
       "  </tbody>\n",
       "</table>\n",
       "</div>"
      ],
      "text/plain": [
       "              MSE      RMSE        R²\n",
       "Brand    0.742078  0.861440  0.017283\n",
       "Mileage  1.080962  1.039693  0.167561\n",
       "EngineV  0.963595  0.981629 -0.014473\n",
       "Year     0.916659  0.957423  0.204911"
      ]
     },
     "execution_count": 126,
     "metadata": {},
     "output_type": "execute_result"
    }
   ],
   "source": [
    "X_list = [Xb, Xm, Xe, Xy]\n",
    "colonnes_index = ['MSE', 'RMSE', 'R²']\n",
    "lignes_index=[]\n",
    "validation = pd.DataFrame(columns=colonnes_index)\n",
    "for s in X_list:\n",
    "    mse, rmse, r2 = resultats(s, y)\n",
    "    new_row = {'MSE': mse, 'RMSE': rmse, 'R²': r2}\n",
    "    validation = pd.concat([validation, pd.DataFrame([new_row])], ignore_index=True)\n",
    "    lignes_index.append(s.columns[0])\n",
    "validation.index = lignes_index\n",
    "validation"
   ]
  },
  {
   "cell_type": "markdown",
   "id": "e3492d88-40eb-4510-a2f2-7fbd954dbbca",
   "metadata": {},
   "source": [
    " "
   ]
  },
  {
   "cell_type": "markdown",
   "id": "9e463822-43c8-47bc-9362-67e4bfcf36cc",
   "metadata": {},
   "source": [
    "## 2. La régression linéaire multiple"
   ]
  },
  {
   "cell_type": "markdown",
   "id": "fc1c8aba-94a4-4c3e-9c59-d9c04ebf9b60",
   "metadata": {},
   "source": [
    "### 1. Préparation des données"
   ]
  },
  {
   "cell_type": "code",
   "execution_count": 127,
   "id": "40e17b2a-af01-45b4-a2e8-1faa6408a4a0",
   "metadata": {},
   "outputs": [],
   "source": [
    "y = df['Prix']\n",
    "X = df[['Brand', 'Mileage', 'Year', 'EngineV']]"
   ]
  },
  {
   "cell_type": "markdown",
   "id": "f4efc466-66a5-46f9-906d-c36dd72ee785",
   "metadata": {},
   "source": [
    "### 2. Modélisation et évaluation du modèle."
   ]
  },
  {
   "cell_type": "code",
   "execution_count": 128,
   "id": "31af2f61-3c24-4502-a0e3-1762beea6f94",
   "metadata": {},
   "outputs": [
    {
     "data": {
      "text/html": [
       "<div>\n",
       "<style scoped>\n",
       "    .dataframe tbody tr th:only-of-type {\n",
       "        vertical-align: middle;\n",
       "    }\n",
       "\n",
       "    .dataframe tbody tr th {\n",
       "        vertical-align: top;\n",
       "    }\n",
       "\n",
       "    .dataframe thead th {\n",
       "        text-align: right;\n",
       "    }\n",
       "</style>\n",
       "<table border=\"1\" class=\"dataframe\">\n",
       "  <thead>\n",
       "    <tr style=\"text-align: right;\">\n",
       "      <th></th>\n",
       "      <th>MSE</th>\n",
       "      <th>RMSE</th>\n",
       "      <th>R²</th>\n",
       "    </tr>\n",
       "  </thead>\n",
       "  <tbody>\n",
       "    <tr>\n",
       "      <th>Brand, Mileage, Year, EngineV</th>\n",
       "      <td>0.611057</td>\n",
       "      <td>0.781701</td>\n",
       "      <td>0.241413</td>\n",
       "    </tr>\n",
       "  </tbody>\n",
       "</table>\n",
       "</div>"
      ],
      "text/plain": [
       "                                    MSE      RMSE        R²\n",
       "Brand, Mileage, Year, EngineV  0.611057  0.781701  0.241413"
      ]
     },
     "execution_count": 128,
     "metadata": {},
     "output_type": "execute_result"
    }
   ],
   "source": [
    "colonnes_index = ['MSE', 'RMSE', 'R²']\n",
    "lignes_index=[]\n",
    "validation = pd.DataFrame(columns=colonnes_index)\n",
    "mse, rmse, r2 = resultats(s, y)\n",
    "new_row = {'MSE': mse, 'RMSE': rmse, 'R²': r2}\n",
    "validation = pd.concat([validation, pd.DataFrame([new_row])], ignore_index=True)\n",
    "validation.index = [', '.join([i for i in X.columns.values])]\n",
    "validation"
   ]
  },
  {
   "cell_type": "markdown",
   "id": "9fb356c2-7509-457e-849a-b7fe26b7bee4",
   "metadata": {},
   "source": [
    "Le modèle de régression linéaire multiple donne de meilleurs résultats que les modèles de régression linéaire simple.\n",
    "\n",
    "Je poursuivrai mon étude sur le choix des vecteurs à implémenter, notamment sur leurs caractéristiques univariées et bivariées."
   ]
  },
  {
   "cell_type": "markdown",
   "id": "c2f3c466-e38c-46b7-aa25-336181f84112",
   "metadata": {},
   "source": [
    " "
   ]
  },
  {
   "cell_type": "markdown",
   "id": "18d96f31-4a08-46f7-92b9-57c23301efac",
   "metadata": {},
   "source": [
    "## 3. La régression polynomiale simple."
   ]
  },
  {
   "cell_type": "markdown",
   "id": "d829bbb3-b7f2-4bf8-9a10-c1ebe5b128c3",
   "metadata": {},
   "source": [
    "### 1. Le choix du degré."
   ]
  },
  {
   "cell_type": "code",
   "execution_count": 65,
   "id": "b57f9a39-92d9-4d21-b850-5530b876eaad",
   "metadata": {},
   "outputs": [
    {
     "data": {
      "text/html": [
       "<div>\n",
       "<style scoped>\n",
       "    .dataframe tbody tr th:only-of-type {\n",
       "        vertical-align: middle;\n",
       "    }\n",
       "\n",
       "    .dataframe tbody tr th {\n",
       "        vertical-align: top;\n",
       "    }\n",
       "\n",
       "    .dataframe thead th {\n",
       "        text-align: right;\n",
       "    }\n",
       "</style>\n",
       "<table border=\"1\" class=\"dataframe\">\n",
       "  <thead>\n",
       "    <tr style=\"text-align: right;\">\n",
       "      <th></th>\n",
       "      <th>Degré</th>\n",
       "    </tr>\n",
       "  </thead>\n",
       "  <tbody>\n",
       "    <tr>\n",
       "      <th>Mileage</th>\n",
       "      <td>16.0</td>\n",
       "    </tr>\n",
       "    <tr>\n",
       "      <th>EngineV</th>\n",
       "      <td>16.0</td>\n",
       "    </tr>\n",
       "    <tr>\n",
       "      <th>Year</th>\n",
       "      <td>16.0</td>\n",
       "    </tr>\n",
       "  </tbody>\n",
       "</table>\n",
       "</div>"
      ],
      "text/plain": [
       "         Degré\n",
       "Mileage   16.0\n",
       "EngineV   16.0\n",
       "Year      16.0"
      ]
     },
     "execution_count": 65,
     "metadata": {},
     "output_type": "execute_result"
    }
   ],
   "source": [
    "X_list = [Xm_train.columns.values[0], Xe_train.columns.values[0], Xy_train.columns.values[0]]\n",
    "\n",
    "def degreeChoice (x,y,degree):\n",
    "    polynomial_features= PolynomialFeatures(degree=degree)\n",
    "    x_poly = polynomial_features.fit_transform(x)\n",
    "    model = LinearRegression()\n",
    "    model.fit(x_poly, y)\n",
    "    y_poly_pred = model.predict(x_poly)\n",
    "    rmse = np.sqrt(mean_squared_error(y,y_poly_pred))\n",
    "    r2 = r2_score(y,y_poly_pred)\n",
    "    sort_axis = operator.itemgetter(0)\n",
    "    sorted_zip = sorted(zip(x,y_poly_pred), key=sort_axis)\n",
    "    x_p, y_poly_pred_P = zip(*sorted_zip)\n",
    "    return rmse, r2, x_p, y_poly_pred_P\n",
    "rmselist = np.zeros(100)\n",
    "r2list = np.zeros(100)\n",
    "x_p_list = [None]*100\n",
    "y_poly_pred_P_list=[None]*100\n",
    "degree = pd.DataFrame(np.zeros(3), index=X_list, columns=[\"Degré\"])\n",
    "for j in X_list:\n",
    "    for i in np.arange(1, 101): #101\n",
    "        rmselist[i-1], r2list[i-1], x_p_list[i-1], y_poly_pred_P_list[i-1] = degreeChoice(Xm_train, y_train,i)\n",
    "    degree.loc[j , \"Degré\"] = np.where(r2list == r2list.max())[0][0]\n",
    "degree"
   ]
  },
  {
   "cell_type": "markdown",
   "id": "1f316a87-815e-46d8-b421-15ffa63e1a9d",
   "metadata": {},
   "source": [
    " "
   ]
  },
  {
   "cell_type": "markdown",
   "id": "107030ba-9677-4329-a927-6ee402f8b2fc",
   "metadata": {},
   "source": [
    "### 2. Préparation des données"
   ]
  },
  {
   "cell_type": "code",
   "execution_count": 116,
   "id": "617cd68d-e7a3-4e3d-b0a4-e10d50f8f6da",
   "metadata": {},
   "outputs": [],
   "source": [
    "y = df['Prix']\n",
    "X = df.drop(columns=['Prix'])"
   ]
  },
  {
   "cell_type": "code",
   "execution_count": 117,
   "id": "8c2b6fcc-26d3-40d1-895e-ca16025dc0e7",
   "metadata": {},
   "outputs": [],
   "source": [
    "Xb = X[['Brand']]\n",
    "Xm = X[['Mileage']]\n",
    "Xe = X[['EngineV']]\n",
    "Xy = X[['Year']]\n",
    "X_list = [Xb, Xm, Xe, Xy]"
   ]
  },
  {
   "cell_type": "markdown",
   "id": "b5399b12-cb5e-4c8d-8304-de3840b05a1b",
   "metadata": {},
   "source": [
    " "
   ]
  },
  {
   "cell_type": "markdown",
   "id": "c2dd23ee-d9b5-440d-b057-9552bbdad102",
   "metadata": {},
   "source": [
    "### 3. Modélisation et évaluation du modèle."
   ]
  },
  {
   "cell_type": "code",
   "execution_count": 66,
   "id": "b5055cc8-08a5-4569-9f82-cb298f2310c9",
   "metadata": {},
   "outputs": [],
   "source": [
    "polynom_features = PolynomialFeatures(degree=16)\n",
    "Xm_poly = polynom_features.fit_transform(Xm_train)\n",
    "Xe_poly = polynom_features.fit_transform(Xe_train)\n",
    "Xy_poly = polynom_features.fit_transform(Xy_train)\n",
    "\n",
    "model_Xm_poly = LinearRegression()\n",
    "model_Xe_poly = LinearRegression()\n",
    "model_Xy_poly = LinearRegression()\n",
    "\n",
    "model_Xm_poly.fit(Xm_poly, y_train)\n",
    "model_Xe_poly.fit(Xe_poly, y_train)\n",
    "model_Xy_poly.fit(Xy_poly, y_train)\n",
    "\n",
    "y_predict_m = model_Xm_poly.predict(Xm_poly)\n",
    "y_predict_e = model_Xe_poly.predict(Xe_poly)\n",
    "y_predict_y = model_Xy_poly.predict(Xy_poly)"
   ]
  },
  {
   "cell_type": "code",
   "execution_count": 67,
   "id": "4bff03e7-c12b-4ab2-9e89-f89a18437ca8",
   "metadata": {},
   "outputs": [
    {
     "data": {
      "text/plain": [
       "(1282, 2990)"
      ]
     },
     "execution_count": 67,
     "metadata": {},
     "output_type": "execute_result"
    }
   ],
   "source": [
    "len(y_test), len(y_predict_m)"
   ]
  },
  {
   "cell_type": "code",
   "execution_count": 68,
   "id": "56328e62-5096-4014-af25-3ae860f4e661",
   "metadata": {},
   "outputs": [],
   "source": [
    "mse_m = mean_squared_error(y_train, y_predict_m).round(3)\n",
    "r2_m = r2_score(y_train, y_predict_m).round(3)\n",
    "mse_e = mean_squared_error(y_train, y_predict_e).round(3)\n",
    "r2_e = r2_score(y_train, y_predict_e).round(3)\n",
    "mse_y = mean_squared_error(y_train, y_predict_y).round(3)\n",
    "r2_y = r2_score(y_train, y_predict_y).round(3)"
   ]
  },
  {
   "cell_type": "code",
   "execution_count": 69,
   "id": "7c10af6a-f001-4922-9f81-b13ba32121b5",
   "metadata": {},
   "outputs": [
    {
     "name": "stdout",
     "output_type": "stream",
     "text": [
      " ### Calcul du MAE, MSE, RMSE et du coefficient de détermination :\n",
      " \n",
      "|     |   MSE |    R² |\n",
      "|-----|-------|-------|\n",
      "| m   | 0.96  | 0.004 |\n",
      "| e   | 0.963 | 0     |\n",
      "| y   | 0.96  | 0.003 |\n"
     ]
    }
   ],
   "source": [
    "print(\" ### Calcul du MAE, MSE, RMSE et du coefficient de détermination :\")\n",
    "print(\" \")\n",
    "table2 = [['m', mse_m, r2_m],\n",
    "          ['e', mse_e, r2_e],\n",
    "          ['y', mse_y, r2_y]]\n",
    "print(tabulate(table2, headers=[' ', 'MSE', 'R²'], tablefmt='github'))"
   ]
  },
  {
   "cell_type": "markdown",
   "id": "02c6ef77-0d8b-4ce8-aee7-492efa915adb",
   "metadata": {},
   "source": [
    " "
   ]
  },
  {
   "cell_type": "markdown",
   "id": "c416918d-33da-4e0b-99ad-67055d9535fc",
   "metadata": {},
   "source": [
    " "
   ]
  },
  {
   "cell_type": "markdown",
   "id": "7ef9eac0-1367-492f-9fa2-3d5879326b0b",
   "metadata": {},
   "source": [
    "##### Pour finir la série sur la régression, il est possible d'en faire une polynomiale multiple. Elle est cependant plus gourmande en ressources mémoire."
   ]
  },
  {
   "cell_type": "code",
   "execution_count": null,
   "id": "24442ec2-90ad-43d7-9a52-aff2c0dcc4bb",
   "metadata": {},
   "outputs": [],
   "source": []
  }
 ],
 "metadata": {
  "kernelspec": {
   "display_name": "Python 3 (ipykernel)",
   "language": "python",
   "name": "python3"
  },
  "language_info": {
   "codemirror_mode": {
    "name": "ipython",
    "version": 3
   },
   "file_extension": ".py",
   "mimetype": "text/x-python",
   "name": "python",
   "nbconvert_exporter": "python",
   "pygments_lexer": "ipython3",
   "version": "3.12.1"
  }
 },
 "nbformat": 4,
 "nbformat_minor": 5
}
