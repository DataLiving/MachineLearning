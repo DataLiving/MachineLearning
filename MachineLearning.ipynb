{
 "cells": [
  {
   "cell_type": "markdown",
   "id": "95ef8b88-b432-4fd2-87b4-0a3439107eda",
   "metadata": {},
   "source": [
    "# Machine Learning"
   ]
  },
  {
   "cell_type": "code",
   "execution_count": 31,
   "id": "7cec88dc-7043-4622-860f-4e466d547b68",
   "metadata": {},
   "outputs": [],
   "source": [
    "import numpy as np\n",
    "import pandas as pd\n",
    "from pandas.api.types import is_numeric_dtype, is_object_dtype\n",
    "import matplotlib.pylab as plt\n",
    "import seaborn as sns\n",
    "from sklearn.preprocessing import LabelEncoder\n",
    "from sklearn.linear_model import LinearRegression\n",
    "from sklearn.preprocessing import PolynomialFeatures\n",
    "from sklearn.model_selection import train_test_split\n",
    "from sklearn.preprocessing import StandardScaler\n",
    "from sklearn.metrics import mean_squared_error\n",
    "from sklearn.metrics import mean_absolute_error\n",
    "from sklearn.metrics import r2_score\n",
    "from statsmodels.stats.outliers_influence import variance_inflation_factor"
   ]
  },
  {
   "cell_type": "code",
   "execution_count": 32,
   "id": "70b37cda-bbf0-404d-a312-9b7f46f181ac",
   "metadata": {},
   "outputs": [],
   "source": [
    "import warnings   #ignorer les avertissement \n",
    "warnings.filterwarnings('ignore')\n",
    "from tabulate import tabulate\n",
    "import operator"
   ]
  },
  {
   "cell_type": "markdown",
   "id": "cc59a8d3-3331-4038-89d0-78dafe051abf",
   "metadata": {},
   "source": [
    " "
   ]
  },
  {
   "cell_type": "markdown",
   "id": "2bdddd5a-9279-4a76-828a-bcaf3cf835a1",
   "metadata": {},
   "source": [
    "### 1. Chargement des données du fichier « Reg.csv »."
   ]
  },
  {
   "cell_type": "code",
   "execution_count": 54,
   "id": "73cf8f0a-e652-4447-b1d8-2912ff869155",
   "metadata": {},
   "outputs": [
    {
     "data": {
      "text/html": [
       "<div>\n",
       "<style scoped>\n",
       "    .dataframe tbody tr th:only-of-type {\n",
       "        vertical-align: middle;\n",
       "    }\n",
       "\n",
       "    .dataframe tbody tr th {\n",
       "        vertical-align: top;\n",
       "    }\n",
       "\n",
       "    .dataframe thead th {\n",
       "        text-align: right;\n",
       "    }\n",
       "</style>\n",
       "<table border=\"1\" class=\"dataframe\">\n",
       "  <thead>\n",
       "    <tr style=\"text-align: right;\">\n",
       "      <th></th>\n",
       "      <th>Brand</th>\n",
       "      <th>Price</th>\n",
       "      <th>Body</th>\n",
       "      <th>Mileage</th>\n",
       "      <th>EngineV</th>\n",
       "      <th>Engine Type</th>\n",
       "      <th>Registration</th>\n",
       "      <th>Year</th>\n",
       "      <th>Model</th>\n",
       "    </tr>\n",
       "  </thead>\n",
       "  <tbody>\n",
       "    <tr>\n",
       "      <th>4049</th>\n",
       "      <td>Audi</td>\n",
       "      <td>3600.0</td>\n",
       "      <td>sedan</td>\n",
       "      <td>374</td>\n",
       "      <td>2.5</td>\n",
       "      <td>Diesel</td>\n",
       "      <td>no</td>\n",
       "      <td>2001</td>\n",
       "      <td>A8</td>\n",
       "    </tr>\n",
       "    <tr>\n",
       "      <th>1104</th>\n",
       "      <td>Volkswagen</td>\n",
       "      <td>5300.0</td>\n",
       "      <td>sedan</td>\n",
       "      <td>270</td>\n",
       "      <td>1.8</td>\n",
       "      <td>Gas</td>\n",
       "      <td>yes</td>\n",
       "      <td>1997</td>\n",
       "      <td>Passat B5</td>\n",
       "    </tr>\n",
       "    <tr>\n",
       "      <th>3309</th>\n",
       "      <td>Toyota</td>\n",
       "      <td>19800.0</td>\n",
       "      <td>crossover</td>\n",
       "      <td>44</td>\n",
       "      <td>2.0</td>\n",
       "      <td>Petrol</td>\n",
       "      <td>yes</td>\n",
       "      <td>2013</td>\n",
       "      <td>Rav 4</td>\n",
       "    </tr>\n",
       "    <tr>\n",
       "      <th>4341</th>\n",
       "      <td>BMW</td>\n",
       "      <td>6500.0</td>\n",
       "      <td>sedan</td>\n",
       "      <td>1</td>\n",
       "      <td>3.5</td>\n",
       "      <td>Petrol</td>\n",
       "      <td>yes</td>\n",
       "      <td>1999</td>\n",
       "      <td>535</td>\n",
       "    </tr>\n",
       "    <tr>\n",
       "      <th>3042</th>\n",
       "      <td>Mercedes-Benz</td>\n",
       "      <td>10900.0</td>\n",
       "      <td>van</td>\n",
       "      <td>360</td>\n",
       "      <td>2.2</td>\n",
       "      <td>Other</td>\n",
       "      <td>yes</td>\n",
       "      <td>2006</td>\n",
       "      <td>Vito</td>\n",
       "    </tr>\n",
       "    <tr>\n",
       "      <th>529</th>\n",
       "      <td>Volkswagen</td>\n",
       "      <td>13499.0</td>\n",
       "      <td>van</td>\n",
       "      <td>154</td>\n",
       "      <td>2.0</td>\n",
       "      <td>Diesel</td>\n",
       "      <td>yes</td>\n",
       "      <td>2013</td>\n",
       "      <td>T5 (Transporter)</td>\n",
       "    </tr>\n",
       "    <tr>\n",
       "      <th>1651</th>\n",
       "      <td>Audi</td>\n",
       "      <td>30900.0</td>\n",
       "      <td>crossover</td>\n",
       "      <td>27</td>\n",
       "      <td>2.0</td>\n",
       "      <td>Petrol</td>\n",
       "      <td>yes</td>\n",
       "      <td>2011</td>\n",
       "      <td>Q5</td>\n",
       "    </tr>\n",
       "    <tr>\n",
       "      <th>721</th>\n",
       "      <td>Toyota</td>\n",
       "      <td>NaN</td>\n",
       "      <td>sedan</td>\n",
       "      <td>24</td>\n",
       "      <td>2.5</td>\n",
       "      <td>Petrol</td>\n",
       "      <td>yes</td>\n",
       "      <td>2015</td>\n",
       "      <td>Camry</td>\n",
       "    </tr>\n",
       "    <tr>\n",
       "      <th>1633</th>\n",
       "      <td>Renault</td>\n",
       "      <td>10499.0</td>\n",
       "      <td>other</td>\n",
       "      <td>160</td>\n",
       "      <td>NaN</td>\n",
       "      <td>Diesel</td>\n",
       "      <td>yes</td>\n",
       "      <td>2013</td>\n",
       "      <td>Trafic</td>\n",
       "    </tr>\n",
       "    <tr>\n",
       "      <th>2898</th>\n",
       "      <td>Volkswagen</td>\n",
       "      <td>22000.0</td>\n",
       "      <td>crossover</td>\n",
       "      <td>98</td>\n",
       "      <td>2.0</td>\n",
       "      <td>Diesel</td>\n",
       "      <td>yes</td>\n",
       "      <td>2013</td>\n",
       "      <td>Tiguan</td>\n",
       "    </tr>\n",
       "  </tbody>\n",
       "</table>\n",
       "</div>"
      ],
      "text/plain": [
       "              Brand    Price       Body  Mileage  EngineV Engine Type  \\\n",
       "4049           Audi   3600.0      sedan      374      2.5      Diesel   \n",
       "1104     Volkswagen   5300.0      sedan      270      1.8         Gas   \n",
       "3309         Toyota  19800.0  crossover       44      2.0      Petrol   \n",
       "4341            BMW   6500.0      sedan        1      3.5      Petrol   \n",
       "3042  Mercedes-Benz  10900.0        van      360      2.2       Other   \n",
       "529      Volkswagen  13499.0        van      154      2.0      Diesel   \n",
       "1651           Audi  30900.0  crossover       27      2.0      Petrol   \n",
       "721          Toyota      NaN      sedan       24      2.5      Petrol   \n",
       "1633        Renault  10499.0      other      160      NaN      Diesel   \n",
       "2898     Volkswagen  22000.0  crossover       98      2.0      Diesel   \n",
       "\n",
       "     Registration  Year              Model  \n",
       "4049           no  2001                 A8  \n",
       "1104          yes  1997          Passat B5  \n",
       "3309          yes  2013              Rav 4  \n",
       "4341          yes  1999                535  \n",
       "3042          yes  2006               Vito  \n",
       "529           yes  2013  T5 (Transporter)   \n",
       "1651          yes  2011                 Q5  \n",
       "721           yes  2015              Camry  \n",
       "1633          yes  2013             Trafic  \n",
       "2898          yes  2013             Tiguan  "
      ]
     },
     "execution_count": 54,
     "metadata": {},
     "output_type": "execute_result"
    }
   ],
   "source": [
    "df=pd.read_csv(\"../../Datasets/Reg.csv\")\n",
    "df.sample(10)"
   ]
  },
  {
   "cell_type": "markdown",
   "id": "c410cdcb-673e-4e0d-996f-eb4b4c3b1366",
   "metadata": {},
   "source": [
    " "
   ]
  },
  {
   "cell_type": "markdown",
   "id": "26c7faed-4b23-42f5-8d73-3457a7f7ecf1",
   "metadata": {},
   "source": [
    "### 2. Découverte du dataset"
   ]
  },
  {
   "cell_type": "code",
   "execution_count": 55,
   "id": "478fb32f-941b-40e8-9d78-28d12103871a",
   "metadata": {},
   "outputs": [
    {
     "data": {
      "text/plain": [
       "(4345, 9)"
      ]
     },
     "execution_count": 55,
     "metadata": {},
     "output_type": "execute_result"
    }
   ],
   "source": [
    "df.shape"
   ]
  },
  {
   "cell_type": "code",
   "execution_count": 56,
   "id": "af0271ea-339a-48a9-b015-222d836e166b",
   "metadata": {},
   "outputs": [
    {
     "name": "stdout",
     "output_type": "stream",
     "text": [
      "<class 'pandas.core.frame.DataFrame'>\n",
      "RangeIndex: 4345 entries, 0 to 4344\n",
      "Data columns (total 9 columns):\n",
      " #   Column        Non-Null Count  Dtype  \n",
      "---  ------        --------------  -----  \n",
      " 0   Brand         4345 non-null   object \n",
      " 1   Price         4173 non-null   float64\n",
      " 2   Body          4345 non-null   object \n",
      " 3   Mileage       4345 non-null   int64  \n",
      " 4   EngineV       4195 non-null   float64\n",
      " 5   Engine Type   4345 non-null   object \n",
      " 6   Registration  4345 non-null   object \n",
      " 7   Year          4345 non-null   int64  \n",
      " 8   Model         4345 non-null   object \n",
      "dtypes: float64(2), int64(2), object(5)\n",
      "memory usage: 305.6+ KB\n"
     ]
    }
   ],
   "source": [
    "df.info()"
   ]
  },
  {
   "cell_type": "markdown",
   "id": "7f7ec9de-7c8f-4cc3-b639-dd691e9ac903",
   "metadata": {},
   "source": [
    " "
   ]
  },
  {
   "cell_type": "markdown",
   "id": "c006f34c-ff6d-47ac-b7a7-8e8f6676506f",
   "metadata": {},
   "source": [
    " "
   ]
  },
  {
   "cell_type": "markdown",
   "id": "20fe5fa5-c7cf-4efa-b80a-0c35bbbc240b",
   "metadata": {},
   "source": [
    "### Données aberrantes"
   ]
  },
  {
   "cell_type": "code",
   "execution_count": 57,
   "id": "1ebb61de-5823-44d1-9043-ac98c2800135",
   "metadata": {},
   "outputs": [],
   "source": [
    "df.rename(columns={'Price':'Prix'}, inplace=True)"
   ]
  },
  {
   "cell_type": "code",
   "execution_count": 58,
   "id": "fbb79935-8579-4f9d-9138-7bf8b3d973c3",
   "metadata": {},
   "outputs": [
    {
     "data": {
      "text/plain": [
       "73"
      ]
     },
     "execution_count": 58,
     "metadata": {},
     "output_type": "execute_result"
    }
   ],
   "source": [
    "df.duplicated().sum()"
   ]
  },
  {
   "cell_type": "code",
   "execution_count": 52,
   "id": "4fa538ff-7c8e-45e1-a63f-f410a83dcfd7",
   "metadata": {},
   "outputs": [
    {
     "data": {
      "text/plain": [
       "0"
      ]
     },
     "execution_count": 52,
     "metadata": {},
     "output_type": "execute_result"
    }
   ],
   "source": [
    "df = df.drop_duplicates(keep='first')\n",
    "df.duplicated().sum()"
   ]
  },
  {
   "cell_type": "markdown",
   "id": "87fe8db2-4228-48c5-a35a-9f852956fdc8",
   "metadata": {},
   "source": [
    "### 4. Conversion des variables contenant des nombres au format float et celles en chaines de caractères en varaibles catégorielles."
   ]
  },
  {
   "cell_type": "code",
   "execution_count": 59,
   "id": "a6f10218-d0d4-4290-951d-c2134569efc1",
   "metadata": {},
   "outputs": [
    {
     "data": {
      "text/html": [
       "<div>\n",
       "<style scoped>\n",
       "    .dataframe tbody tr th:only-of-type {\n",
       "        vertical-align: middle;\n",
       "    }\n",
       "\n",
       "    .dataframe tbody tr th {\n",
       "        vertical-align: top;\n",
       "    }\n",
       "\n",
       "    .dataframe thead th {\n",
       "        text-align: right;\n",
       "    }\n",
       "</style>\n",
       "<table border=\"1\" class=\"dataframe\">\n",
       "  <thead>\n",
       "    <tr style=\"text-align: right;\">\n",
       "      <th></th>\n",
       "      <th>Brand</th>\n",
       "      <th>Prix</th>\n",
       "      <th>Body</th>\n",
       "      <th>Mileage</th>\n",
       "      <th>EngineV</th>\n",
       "      <th>Engine Type</th>\n",
       "      <th>Registration</th>\n",
       "      <th>Year</th>\n",
       "      <th>Model</th>\n",
       "    </tr>\n",
       "  </thead>\n",
       "  <tbody>\n",
       "    <tr>\n",
       "      <th>0</th>\n",
       "      <td>1</td>\n",
       "      <td>4200.0</td>\n",
       "      <td>3</td>\n",
       "      <td>277</td>\n",
       "      <td>2.0</td>\n",
       "      <td>3</td>\n",
       "      <td>1</td>\n",
       "      <td>1991</td>\n",
       "      <td>18</td>\n",
       "    </tr>\n",
       "    <tr>\n",
       "      <th>1</th>\n",
       "      <td>2</td>\n",
       "      <td>7900.0</td>\n",
       "      <td>5</td>\n",
       "      <td>427</td>\n",
       "      <td>2.9</td>\n",
       "      <td>0</td>\n",
       "      <td>1</td>\n",
       "      <td>1999</td>\n",
       "      <td>266</td>\n",
       "    </tr>\n",
       "    <tr>\n",
       "      <th>2</th>\n",
       "      <td>2</td>\n",
       "      <td>13300.0</td>\n",
       "      <td>3</td>\n",
       "      <td>358</td>\n",
       "      <td>5.0</td>\n",
       "      <td>1</td>\n",
       "      <td>1</td>\n",
       "      <td>2003</td>\n",
       "      <td>237</td>\n",
       "    </tr>\n",
       "    <tr>\n",
       "      <th>3</th>\n",
       "      <td>0</td>\n",
       "      <td>23000.0</td>\n",
       "      <td>0</td>\n",
       "      <td>240</td>\n",
       "      <td>4.2</td>\n",
       "      <td>3</td>\n",
       "      <td>1</td>\n",
       "      <td>2007</td>\n",
       "      <td>224</td>\n",
       "    </tr>\n",
       "    <tr>\n",
       "      <th>4</th>\n",
       "      <td>5</td>\n",
       "      <td>18300.0</td>\n",
       "      <td>0</td>\n",
       "      <td>120</td>\n",
       "      <td>2.0</td>\n",
       "      <td>3</td>\n",
       "      <td>1</td>\n",
       "      <td>2011</td>\n",
       "      <td>227</td>\n",
       "    </tr>\n",
       "    <tr>\n",
       "      <th>...</th>\n",
       "      <td>...</td>\n",
       "      <td>...</td>\n",
       "      <td>...</td>\n",
       "      <td>...</td>\n",
       "      <td>...</td>\n",
       "      <td>...</td>\n",
       "      <td>...</td>\n",
       "      <td>...</td>\n",
       "      <td>...</td>\n",
       "    </tr>\n",
       "    <tr>\n",
       "      <th>4340</th>\n",
       "      <td>2</td>\n",
       "      <td>125000.0</td>\n",
       "      <td>3</td>\n",
       "      <td>9</td>\n",
       "      <td>3.0</td>\n",
       "      <td>0</td>\n",
       "      <td>1</td>\n",
       "      <td>2014</td>\n",
       "      <td>233</td>\n",
       "    </tr>\n",
       "    <tr>\n",
       "      <th>4341</th>\n",
       "      <td>1</td>\n",
       "      <td>6500.0</td>\n",
       "      <td>3</td>\n",
       "      <td>1</td>\n",
       "      <td>3.5</td>\n",
       "      <td>3</td>\n",
       "      <td>1</td>\n",
       "      <td>1999</td>\n",
       "      <td>37</td>\n",
       "    </tr>\n",
       "    <tr>\n",
       "      <th>4342</th>\n",
       "      <td>1</td>\n",
       "      <td>8000.0</td>\n",
       "      <td>3</td>\n",
       "      <td>194</td>\n",
       "      <td>2.0</td>\n",
       "      <td>3</td>\n",
       "      <td>1</td>\n",
       "      <td>1985</td>\n",
       "      <td>31</td>\n",
       "    </tr>\n",
       "    <tr>\n",
       "      <th>4343</th>\n",
       "      <td>5</td>\n",
       "      <td>14200.0</td>\n",
       "      <td>3</td>\n",
       "      <td>31</td>\n",
       "      <td>NaN</td>\n",
       "      <td>3</td>\n",
       "      <td>1</td>\n",
       "      <td>2014</td>\n",
       "      <td>114</td>\n",
       "    </tr>\n",
       "    <tr>\n",
       "      <th>4344</th>\n",
       "      <td>6</td>\n",
       "      <td>13500.0</td>\n",
       "      <td>5</td>\n",
       "      <td>124</td>\n",
       "      <td>2.0</td>\n",
       "      <td>0</td>\n",
       "      <td>1</td>\n",
       "      <td>2013</td>\n",
       "      <td>284</td>\n",
       "    </tr>\n",
       "  </tbody>\n",
       "</table>\n",
       "<p>4345 rows × 9 columns</p>\n",
       "</div>"
      ],
      "text/plain": [
       "     Brand      Prix Body  Mileage  EngineV Engine Type Registration  Year  \\\n",
       "0        1    4200.0    3      277      2.0           3            1  1991   \n",
       "1        2    7900.0    5      427      2.9           0            1  1999   \n",
       "2        2   13300.0    3      358      5.0           1            1  2003   \n",
       "3        0   23000.0    0      240      4.2           3            1  2007   \n",
       "4        5   18300.0    0      120      2.0           3            1  2011   \n",
       "...    ...       ...  ...      ...      ...         ...          ...   ...   \n",
       "4340     2  125000.0    3        9      3.0           0            1  2014   \n",
       "4341     1    6500.0    3        1      3.5           3            1  1999   \n",
       "4342     1    8000.0    3      194      2.0           3            1  1985   \n",
       "4343     5   14200.0    3       31      NaN           3            1  2014   \n",
       "4344     6   13500.0    5      124      2.0           0            1  2013   \n",
       "\n",
       "     Model  \n",
       "0       18  \n",
       "1      266  \n",
       "2      237  \n",
       "3      224  \n",
       "4      227  \n",
       "...    ...  \n",
       "4340   233  \n",
       "4341    37  \n",
       "4342    31  \n",
       "4343   114  \n",
       "4344   284  \n",
       "\n",
       "[4345 rows x 9 columns]"
      ]
     },
     "execution_count": 59,
     "metadata": {},
     "output_type": "execute_result"
    }
   ],
   "source": [
    "model_label = LabelEncoder()\n",
    "def chainedechar_en_label(vecteur):\n",
    "    return model_label.fit_transform(vecteur)\n",
    "df.update(pd.DataFrame.from_dict({nom_colonne : chainedechar_en_label(df[nom_colonne]) for nom_colonne in df if is_object_dtype(df[nom_colonne])}))\n",
    "df"
   ]
  },
  {
   "cell_type": "code",
   "execution_count": 45,
   "id": "c087e965-3ffa-4bea-ab04-d25197b38373",
   "metadata": {},
   "outputs": [
    {
     "data": {
      "image/png": "[encoded data removed]",
      "text/plain": [
       "<Figure size 640x480 with 1 Axes>"
      ]
     },
     "metadata": {},
     "output_type": "display_data"
    }
   ],
   "source": [
    "sns.boxplot(df.drop(columns=\"Prix\"))\n",
    "plt.xticks(rotation=90)\n",
    "plt.show()"
   ]
  },
  {
   "cell_type": "code",
   "execution_count": 46,
   "id": "2764e57d-c4bb-4e3f-bc8f-aebf93ef371c",
   "metadata": {},
   "outputs": [
    {
     "data": {
      "image/png": "[encoded data removed]",
      "text/plain": [
       "<Figure size 640x480 with 1 Axes>"
      ]
     },
     "metadata": {},
     "output_type": "display_data"
    }
   ],
   "source": [
    "sns.boxplot(df[\"Prix\"])\n",
    "plt.xticks(rotation=90)\n",
    "plt.show()"
   ]
  },
  {
   "cell_type": "code",
   "execution_count": 23,
   "id": "50e19ede-4d32-43e4-ba72-6fe1adf8821f",
   "metadata": {},
   "outputs": [
    {
     "name": "stdout",
     "output_type": "stream",
     "text": [
      "----- Brand -----\n",
      "-- Aucunes valeurs aberrantes.\n",
      "----- Prix -----\n",
      "-- Minimum: -13600.0 - Pas d'ouliers\n",
      "!! Maximum: 41600.0 - Ouliers existants : 402\n",
      "### Il y a 402 valeurs aberrantes.\n",
      "----- Body -----\n",
      "-- Aucunes valeurs aberrantes.\n",
      "----- Mileage -----\n",
      "-- Minimum: -130.0 - Pas d'ouliers\n",
      "!! Maximum: 446.0 - Ouliers existants : 40\n",
      "### Il y a 40 valeurs aberrantes.\n",
      "----- EngineV -----\n",
      "-- Minimum: 0.25 - Pas d'ouliers\n",
      "!! Maximum: 4.65 - Ouliers existants : 230\n",
      "### Il y a 230 valeurs aberrantes.\n",
      "----- Engine Type -----\n",
      "-- Aucunes valeurs aberrantes.\n",
      "----- Registration -----\n",
      "!! Minimum: 1.0 - Ouliers eiistants : 398\n",
      "!! Maximum: 1.0 - Ouliers existants : 0\n",
      "### Il y a 398 valeurs aberrantes.\n",
      "----- Year -----\n",
      "!! Minimum: 1989.5 - Ouliers eiistants : 106\n",
      "-- Maximum: 2025.5 - Pas d'ouliers\n",
      "### Il y a 106 valeurs aberrantes.\n",
      "----- Model -----\n",
      "-- Aucunes valeurs aberrantes.\n"
     ]
    }
   ],
   "source": [
    "for i in df:\n",
    "    print(f\"----- {i} -----\")\n",
    "    Minimum=df[i].min()\n",
    "    Maximum=df[i].max()\n",
    "    IQR=df[i].quantile(0.75)-df[i].quantile(0.25)\n",
    "    outlier_min=df[i].quantile(0.25)-1.5*IQR\n",
    "    outlier_max=df[i].quantile(0.75)+1.5*IQR\n",
    "    outlmin = df[df[i]<outlier_min][i]\n",
    "    outlmax = df[df[i]>outlier_max][i]\n",
    "    if len(outlmin)+len(outlmax) != 0 :\n",
    "        print(f\"-- Minimum: {round(outlier_min,2)} - Pas d'ouliers\") if Minimum > outlier_min else print(f\"!! Minimum: {round(outlier_min,2)} - Ouliers eiistants : {len(outlmin)}\")\n",
    "        print(f\"-- Maximum: {round(outlier_max,2)} - Pas d'ouliers\") if Maximum < outlier_max else print(f\"!! Maximum: {round(outlier_max,2)} - Ouliers existants : {len(outlmax)}\")\n",
    "        print(f\"### Il y a {len(outlmin)+len(outlmax)} valeurs aberrantes.\")\n",
    "    else:\n",
    "        print(\"-- Aucunes valeurs aberrantes.\")"
   ]
  },
  {
   "cell_type": "markdown",
   "id": "f18b826c-0c98-43c0-8124-88cef4744dad",
   "metadata": {},
   "source": [
    " "
   ]
  },
  {
   "cell_type": "markdown",
   "id": "31b0c4ba-4e64-4222-b27a-de53d08c7f87",
   "metadata": {},
   "source": [
    " "
   ]
  },
  {
   "cell_type": "markdown",
   "id": "cc95cd46-eac5-45e2-8b5b-842c851ec5b0",
   "metadata": {},
   "source": [
    "### 3. Gestion des données manquantes ou dupliquées."
   ]
  },
  {
   "cell_type": "code",
   "execution_count": 9,
   "id": "ad9523db-77e7-4dd0-854e-0d9c754e188d",
   "metadata": {},
   "outputs": [
    {
     "data": {
      "text/plain": [
       "Brand             0\n",
       "Prix            172\n",
       "Body              0\n",
       "Mileage           0\n",
       "EngineV         150\n",
       "Engine Type       0\n",
       "Registration      0\n",
       "Year              0\n",
       "Model             0\n",
       "dtype: int64"
      ]
     },
     "execution_count": 9,
     "metadata": {},
     "output_type": "execute_result"
    }
   ],
   "source": [
    "df.isna().sum()"
   ]
  },
  {
   "cell_type": "code",
   "execution_count": 10,
   "id": "3c3554d2-0b79-4042-90d7-838e61b43bd8",
   "metadata": {},
   "outputs": [],
   "source": [
    "def na_en_median(vecteur):\n",
    "    return vecteur.astype(float).fillna(vecteur.median())\n",
    "df.update(pd.DataFrame.from_dict({nom_colonne : na_en_median(df[nom_colonne]) for nom_colonne in df if is_numeric_dtype(df[nom_colonne])}))"
   ]
  },
  {
   "cell_type": "code",
   "execution_count": 11,
   "id": "2e735744-d431-4aa7-a86e-b3b2e4fdafab",
   "metadata": {},
   "outputs": [
    {
     "data": {
      "text/plain": [
       "0"
      ]
     },
     "execution_count": 11,
     "metadata": {},
     "output_type": "execute_result"
    }
   ],
   "source": [
    "df.isna().sum().sum()"
   ]
  },
  {
   "cell_type": "markdown",
   "id": "447a1238-4f52-473a-b94c-5161657e9f73",
   "metadata": {},
   "source": [
    " "
   ]
  },
  {
   "cell_type": "markdown",
   "id": "f705c4e1-4f23-43ec-b715-7e53d43117b0",
   "metadata": {},
   "source": [
    "### 5. Analyse statistique univariée et bivariée."
   ]
  },
  {
   "cell_type": "code",
   "execution_count": 13,
   "id": "d74d43a6-e977-41ce-8a18-ef065e292789",
   "metadata": {},
   "outputs": [
    {
     "data": {
      "text/html": [
       "<div>\n",
       "<style scoped>\n",
       "    .dataframe tbody tr th:only-of-type {\n",
       "        vertical-align: middle;\n",
       "    }\n",
       "\n",
       "    .dataframe tbody tr th {\n",
       "        vertical-align: top;\n",
       "    }\n",
       "\n",
       "    .dataframe thead th {\n",
       "        text-align: right;\n",
       "    }\n",
       "</style>\n",
       "<table border=\"1\" class=\"dataframe\">\n",
       "  <thead>\n",
       "    <tr style=\"text-align: right;\">\n",
       "      <th></th>\n",
       "      <th>Brand</th>\n",
       "      <th>Prix</th>\n",
       "      <th>Body</th>\n",
       "      <th>Mileage</th>\n",
       "      <th>EngineV</th>\n",
       "      <th>Engine Type</th>\n",
       "      <th>Registration</th>\n",
       "      <th>Year</th>\n",
       "      <th>Model</th>\n",
       "    </tr>\n",
       "  </thead>\n",
       "  <tbody>\n",
       "    <tr>\n",
       "      <th>count</th>\n",
       "      <td>4345.0</td>\n",
       "      <td>4345.000000</td>\n",
       "      <td>4345.0</td>\n",
       "      <td>4345.000000</td>\n",
       "      <td>4345.000000</td>\n",
       "      <td>4345.0</td>\n",
       "      <td>4345.0</td>\n",
       "      <td>4345.000000</td>\n",
       "      <td>4345.0</td>\n",
       "    </tr>\n",
       "    <tr>\n",
       "      <th>unique</th>\n",
       "      <td>7.0</td>\n",
       "      <td>NaN</td>\n",
       "      <td>6.0</td>\n",
       "      <td>NaN</td>\n",
       "      <td>NaN</td>\n",
       "      <td>4.0</td>\n",
       "      <td>2.0</td>\n",
       "      <td>NaN</td>\n",
       "      <td>312.0</td>\n",
       "    </tr>\n",
       "    <tr>\n",
       "      <th>top</th>\n",
       "      <td>6.0</td>\n",
       "      <td>NaN</td>\n",
       "      <td>3.0</td>\n",
       "      <td>NaN</td>\n",
       "      <td>NaN</td>\n",
       "      <td>0.0</td>\n",
       "      <td>1.0</td>\n",
       "      <td>NaN</td>\n",
       "      <td>119.0</td>\n",
       "    </tr>\n",
       "    <tr>\n",
       "      <th>freq</th>\n",
       "      <td>936.0</td>\n",
       "      <td>NaN</td>\n",
       "      <td>1649.0</td>\n",
       "      <td>NaN</td>\n",
       "      <td>NaN</td>\n",
       "      <td>2019.0</td>\n",
       "      <td>3947.0</td>\n",
       "      <td>NaN</td>\n",
       "      <td>199.0</td>\n",
       "    </tr>\n",
       "    <tr>\n",
       "      <th>mean</th>\n",
       "      <td>NaN</td>\n",
       "      <td>19105.277551</td>\n",
       "      <td>NaN</td>\n",
       "      <td>161.237284</td>\n",
       "      <td>2.770341</td>\n",
       "      <td>NaN</td>\n",
       "      <td>NaN</td>\n",
       "      <td>2006.550058</td>\n",
       "      <td>NaN</td>\n",
       "    </tr>\n",
       "    <tr>\n",
       "      <th>std</th>\n",
       "      <td>NaN</td>\n",
       "      <td>25120.133334</td>\n",
       "      <td>NaN</td>\n",
       "      <td>105.705797</td>\n",
       "      <td>4.979364</td>\n",
       "      <td>NaN</td>\n",
       "      <td>NaN</td>\n",
       "      <td>6.719097</td>\n",
       "      <td>NaN</td>\n",
       "    </tr>\n",
       "    <tr>\n",
       "      <th>min</th>\n",
       "      <td>NaN</td>\n",
       "      <td>600.000000</td>\n",
       "      <td>NaN</td>\n",
       "      <td>0.000000</td>\n",
       "      <td>0.600000</td>\n",
       "      <td>NaN</td>\n",
       "      <td>NaN</td>\n",
       "      <td>1969.000000</td>\n",
       "      <td>NaN</td>\n",
       "    </tr>\n",
       "    <tr>\n",
       "      <th>25%</th>\n",
       "      <td>NaN</td>\n",
       "      <td>7100.000000</td>\n",
       "      <td>NaN</td>\n",
       "      <td>86.000000</td>\n",
       "      <td>1.900000</td>\n",
       "      <td>NaN</td>\n",
       "      <td>NaN</td>\n",
       "      <td>2003.000000</td>\n",
       "      <td>NaN</td>\n",
       "    </tr>\n",
       "    <tr>\n",
       "      <th>50%</th>\n",
       "      <td>NaN</td>\n",
       "      <td>11500.000000</td>\n",
       "      <td>NaN</td>\n",
       "      <td>155.000000</td>\n",
       "      <td>2.200000</td>\n",
       "      <td>NaN</td>\n",
       "      <td>NaN</td>\n",
       "      <td>2008.000000</td>\n",
       "      <td>NaN</td>\n",
       "    </tr>\n",
       "    <tr>\n",
       "      <th>75%</th>\n",
       "      <td>NaN</td>\n",
       "      <td>20900.000000</td>\n",
       "      <td>NaN</td>\n",
       "      <td>230.000000</td>\n",
       "      <td>3.000000</td>\n",
       "      <td>NaN</td>\n",
       "      <td>NaN</td>\n",
       "      <td>2012.000000</td>\n",
       "      <td>NaN</td>\n",
       "    </tr>\n",
       "    <tr>\n",
       "      <th>max</th>\n",
       "      <td>NaN</td>\n",
       "      <td>300000.000000</td>\n",
       "      <td>NaN</td>\n",
       "      <td>980.000000</td>\n",
       "      <td>99.990000</td>\n",
       "      <td>NaN</td>\n",
       "      <td>NaN</td>\n",
       "      <td>2016.000000</td>\n",
       "      <td>NaN</td>\n",
       "    </tr>\n",
       "  </tbody>\n",
       "</table>\n",
       "</div>"
      ],
      "text/plain": [
       "         Brand           Prix    Body      Mileage      EngineV  Engine Type  \\\n",
       "count   4345.0    4345.000000  4345.0  4345.000000  4345.000000       4345.0   \n",
       "unique     7.0            NaN     6.0          NaN          NaN          4.0   \n",
       "top        6.0            NaN     3.0          NaN          NaN          0.0   \n",
       "freq     936.0            NaN  1649.0          NaN          NaN       2019.0   \n",
       "mean       NaN   19105.277551     NaN   161.237284     2.770341          NaN   \n",
       "std        NaN   25120.133334     NaN   105.705797     4.979364          NaN   \n",
       "min        NaN     600.000000     NaN     0.000000     0.600000          NaN   \n",
       "25%        NaN    7100.000000     NaN    86.000000     1.900000          NaN   \n",
       "50%        NaN   11500.000000     NaN   155.000000     2.200000          NaN   \n",
       "75%        NaN   20900.000000     NaN   230.000000     3.000000          NaN   \n",
       "max        NaN  300000.000000     NaN   980.000000    99.990000          NaN   \n",
       "\n",
       "        Registration         Year   Model  \n",
       "count         4345.0  4345.000000  4345.0  \n",
       "unique           2.0          NaN   312.0  \n",
       "top              1.0          NaN   119.0  \n",
       "freq          3947.0          NaN   199.0  \n",
       "mean             NaN  2006.550058     NaN  \n",
       "std              NaN     6.719097     NaN  \n",
       "min              NaN  1969.000000     NaN  \n",
       "25%              NaN  2003.000000     NaN  \n",
       "50%              NaN  2008.000000     NaN  \n",
       "75%              NaN  2012.000000     NaN  \n",
       "max              NaN  2016.000000     NaN  "
      ]
     },
     "execution_count": 13,
     "metadata": {},
     "output_type": "execute_result"
    }
   ],
   "source": [
    "df.describe(include='all')"
   ]
  },
  {
   "cell_type": "code",
   "execution_count": 18,
   "id": "5fb16622-4686-4d31-95b2-10d63da7f2a1",
   "metadata": {},
   "outputs": [
    {
     "data": {
      "text/plain": [
       "array([[<Axes: title={'center': 'Prix'}>,\n",
       "        <Axes: title={'center': 'Mileage'}>],\n",
       "       [<Axes: title={'center': 'EngineV'}>,\n",
       "        <Axes: title={'center': 'Year'}>]], dtype=object)"
      ]
     },
     "execution_count": 18,
     "metadata": {},
     "output_type": "execute_result"
    },
    {
     "data": {
      "image/png": "[encoded data removed]",
      "text/plain": [
       "<Figure size 640x480 with 4 Axes>"
      ]
     },
     "metadata": {},
     "output_type": "display_data"
    }
   ],
   "source": [
    "df.hist()"
   ]
  },
  {
   "cell_type": "code",
   "execution_count": 19,
   "id": "a5e2184a-d6bd-4b91-b8f9-94deee1725a3",
   "metadata": {},
   "outputs": [
    {
     "data": {
      "text/html": [
       "<div>\n",
       "<style scoped>\n",
       "    .dataframe tbody tr th:only-of-type {\n",
       "        vertical-align: middle;\n",
       "    }\n",
       "\n",
       "    .dataframe tbody tr th {\n",
       "        vertical-align: top;\n",
       "    }\n",
       "\n",
       "    .dataframe thead th {\n",
       "        text-align: right;\n",
       "    }\n",
       "</style>\n",
       "<table border=\"1\" class=\"dataframe\">\n",
       "  <thead>\n",
       "    <tr style=\"text-align: right;\">\n",
       "      <th></th>\n",
       "      <th>Brand</th>\n",
       "      <th>Prix</th>\n",
       "      <th>Body</th>\n",
       "      <th>Mileage</th>\n",
       "      <th>EngineV</th>\n",
       "      <th>Engine Type</th>\n",
       "      <th>Registration</th>\n",
       "      <th>Year</th>\n",
       "      <th>Model</th>\n",
       "    </tr>\n",
       "  </thead>\n",
       "  <tbody>\n",
       "    <tr>\n",
       "      <th>0</th>\n",
       "      <td>-1.037700</td>\n",
       "      <td>-0.593428</td>\n",
       "      <td>0.271682</td>\n",
       "      <td>1.095267</td>\n",
       "      <td>-0.154724</td>\n",
       "      <td>1.257674</td>\n",
       "      <td>0.317547</td>\n",
       "      <td>-2.314574</td>\n",
       "      <td>-1.670766</td>\n",
       "    </tr>\n",
       "    <tr>\n",
       "      <th>1</th>\n",
       "      <td>-0.556452</td>\n",
       "      <td>-0.446119</td>\n",
       "      <td>1.479928</td>\n",
       "      <td>2.514463</td>\n",
       "      <td>0.026042</td>\n",
       "      <td>-0.946680</td>\n",
       "      <td>0.317547</td>\n",
       "      <td>-1.123801</td>\n",
       "      <td>1.133602</td>\n",
       "    </tr>\n",
       "    <tr>\n",
       "      <th>2</th>\n",
       "      <td>-0.556452</td>\n",
       "      <td>-0.231127</td>\n",
       "      <td>0.271682</td>\n",
       "      <td>1.861633</td>\n",
       "      <td>0.447831</td>\n",
       "      <td>-0.211895</td>\n",
       "      <td>0.317547</td>\n",
       "      <td>-0.528414</td>\n",
       "      <td>0.805672</td>\n",
       "    </tr>\n",
       "    <tr>\n",
       "      <th>3</th>\n",
       "      <td>-1.518947</td>\n",
       "      <td>0.155062</td>\n",
       "      <td>-1.540688</td>\n",
       "      <td>0.745198</td>\n",
       "      <td>0.287150</td>\n",
       "      <td>1.257674</td>\n",
       "      <td>0.317547</td>\n",
       "      <td>0.066972</td>\n",
       "      <td>0.658668</td>\n",
       "    </tr>\n",
       "    <tr>\n",
       "      <th>4</th>\n",
       "      <td>0.887289</td>\n",
       "      <td>-0.032061</td>\n",
       "      <td>-1.540688</td>\n",
       "      <td>-0.390159</td>\n",
       "      <td>-0.154724</td>\n",
       "      <td>1.257674</td>\n",
       "      <td>0.317547</td>\n",
       "      <td>0.662359</td>\n",
       "      <td>0.692592</td>\n",
       "    </tr>\n",
       "    <tr>\n",
       "      <th>5</th>\n",
       "      <td>-0.556452</td>\n",
       "      <td>7.201974</td>\n",
       "      <td>-1.540688</td>\n",
       "      <td>-1.525516</td>\n",
       "      <td>0.548257</td>\n",
       "      <td>1.257674</td>\n",
       "      <td>0.317547</td>\n",
       "      <td>1.406592</td>\n",
       "      <td>-0.245966</td>\n",
       "    </tr>\n",
       "    <tr>\n",
       "      <th>6</th>\n",
       "      <td>-1.037700</td>\n",
       "      <td>-0.517783</td>\n",
       "      <td>0.271682</td>\n",
       "      <td>2.618537</td>\n",
       "      <td>-0.154724</td>\n",
       "      <td>-0.211895</td>\n",
       "      <td>0.317547</td>\n",
       "      <td>-1.421494</td>\n",
       "      <td>-1.670766</td>\n",
       "    </tr>\n",
       "    <tr>\n",
       "      <th>7</th>\n",
       "      <td>-1.518947</td>\n",
       "      <td>-0.195295</td>\n",
       "      <td>0.875805</td>\n",
       "      <td>0.366746</td>\n",
       "      <td>-0.014128</td>\n",
       "      <td>-0.946680</td>\n",
       "      <td>0.317547</td>\n",
       "      <td>-0.081874</td>\n",
       "      <td>-1.127986</td>\n",
       "    </tr>\n",
       "    <tr>\n",
       "      <th>8</th>\n",
       "      <td>0.406042</td>\n",
       "      <td>-0.330700</td>\n",
       "      <td>0.875805</td>\n",
       "      <td>0.300517</td>\n",
       "      <td>-0.255150</td>\n",
       "      <td>-0.946680</td>\n",
       "      <td>0.317547</td>\n",
       "      <td>0.811206</td>\n",
       "      <td>0.375970</td>\n",
       "    </tr>\n",
       "    <tr>\n",
       "      <th>9</th>\n",
       "      <td>1.368536</td>\n",
       "      <td>-0.704905</td>\n",
       "      <td>-0.332441</td>\n",
       "      <td>0.480282</td>\n",
       "      <td>-0.194895</td>\n",
       "      <td>-0.211895</td>\n",
       "      <td>-3.149140</td>\n",
       "      <td>-1.123801</td>\n",
       "      <td>-0.189427</td>\n",
       "    </tr>\n",
       "  </tbody>\n",
       "</table>\n",
       "</div>"
      ],
      "text/plain": [
       "      Brand      Prix      Body   Mileage   EngineV  Engine Type  \\\n",
       "0 -1.037700 -0.593428  0.271682  1.095267 -0.154724     1.257674   \n",
       "1 -0.556452 -0.446119  1.479928  2.514463  0.026042    -0.946680   \n",
       "2 -0.556452 -0.231127  0.271682  1.861633  0.447831    -0.211895   \n",
       "3 -1.518947  0.155062 -1.540688  0.745198  0.287150     1.257674   \n",
       "4  0.887289 -0.032061 -1.540688 -0.390159 -0.154724     1.257674   \n",
       "5 -0.556452  7.201974 -1.540688 -1.525516  0.548257     1.257674   \n",
       "6 -1.037700 -0.517783  0.271682  2.618537 -0.154724    -0.211895   \n",
       "7 -1.518947 -0.195295  0.875805  0.366746 -0.014128    -0.946680   \n",
       "8  0.406042 -0.330700  0.875805  0.300517 -0.255150    -0.946680   \n",
       "9  1.368536 -0.704905 -0.332441  0.480282 -0.194895    -0.211895   \n",
       "\n",
       "   Registration      Year     Model  \n",
       "0      0.317547 -2.314574 -1.670766  \n",
       "1      0.317547 -1.123801  1.133602  \n",
       "2      0.317547 -0.528414  0.805672  \n",
       "3      0.317547  0.066972  0.658668  \n",
       "4      0.317547  0.662359  0.692592  \n",
       "5      0.317547  1.406592 -0.245966  \n",
       "6      0.317547 -1.421494 -1.670766  \n",
       "7      0.317547 -0.081874 -1.127986  \n",
       "8      0.317547  0.811206  0.375970  \n",
       "9     -3.149140 -1.123801 -0.189427  "
      ]
     },
     "execution_count": 19,
     "metadata": {},
     "output_type": "execute_result"
    }
   ],
   "source": [
    "scaler = StandardScaler()\n",
    "df_scaled = pd.DataFrame(scaler.fit_transform(df), columns=df.columns)\n",
    "df_scaled.head(10)"
   ]
  },
  {
   "cell_type": "code",
   "execution_count": 20,
   "id": "b72ac4c3-2a45-4486-abad-169b37873253",
   "metadata": {},
   "outputs": [
    {
     "data": {
      "text/html": [
       "<div>\n",
       "<style scoped>\n",
       "    .dataframe tbody tr th:only-of-type {\n",
       "        vertical-align: middle;\n",
       "    }\n",
       "\n",
       "    .dataframe tbody tr th {\n",
       "        vertical-align: top;\n",
       "    }\n",
       "\n",
       "    .dataframe thead th {\n",
       "        text-align: right;\n",
       "    }\n",
       "</style>\n",
       "<table border=\"1\" class=\"dataframe\">\n",
       "  <thead>\n",
       "    <tr style=\"text-align: right;\">\n",
       "      <th></th>\n",
       "      <th>Brand</th>\n",
       "      <th>Prix</th>\n",
       "      <th>Body</th>\n",
       "      <th>Mileage</th>\n",
       "      <th>EngineV</th>\n",
       "      <th>Engine Type</th>\n",
       "      <th>Registration</th>\n",
       "      <th>Year</th>\n",
       "      <th>Model</th>\n",
       "    </tr>\n",
       "  </thead>\n",
       "  <tbody>\n",
       "    <tr>\n",
       "      <th>Brand</th>\n",
       "      <td>1.000000</td>\n",
       "      <td>-0.142669</td>\n",
       "      <td>0.091158</td>\n",
       "      <td>-0.085508</td>\n",
       "      <td>-0.048397</td>\n",
       "      <td>-0.047513</td>\n",
       "      <td>0.155198</td>\n",
       "      <td>0.122401</td>\n",
       "      <td>0.335192</td>\n",
       "    </tr>\n",
       "    <tr>\n",
       "      <th>Prix</th>\n",
       "      <td>-0.142669</td>\n",
       "      <td>1.000000</td>\n",
       "      <td>-0.302197</td>\n",
       "      <td>-0.442674</td>\n",
       "      <td>0.054351</td>\n",
       "      <td>0.035381</td>\n",
       "      <td>0.187212</td>\n",
       "      <td>0.465860</td>\n",
       "      <td>0.123690</td>\n",
       "    </tr>\n",
       "    <tr>\n",
       "      <th>Body</th>\n",
       "      <td>0.091158</td>\n",
       "      <td>-0.302197</td>\n",
       "      <td>1.000000</td>\n",
       "      <td>0.287460</td>\n",
       "      <td>-0.049051</td>\n",
       "      <td>-0.191813</td>\n",
       "      <td>-0.074222</td>\n",
       "      <td>-0.173204</td>\n",
       "      <td>-0.091033</td>\n",
       "    </tr>\n",
       "    <tr>\n",
       "      <th>Mileage</th>\n",
       "      <td>-0.085508</td>\n",
       "      <td>-0.442674</td>\n",
       "      <td>0.287460</td>\n",
       "      <td>1.000000</td>\n",
       "      <td>0.019755</td>\n",
       "      <td>-0.171347</td>\n",
       "      <td>-0.224822</td>\n",
       "      <td>-0.668635</td>\n",
       "      <td>-0.115262</td>\n",
       "    </tr>\n",
       "    <tr>\n",
       "      <th>EngineV</th>\n",
       "      <td>-0.048397</td>\n",
       "      <td>0.054351</td>\n",
       "      <td>-0.049051</td>\n",
       "      <td>0.019755</td>\n",
       "      <td>1.000000</td>\n",
       "      <td>0.030663</td>\n",
       "      <td>-0.007307</td>\n",
       "      <td>-0.022214</td>\n",
       "      <td>0.026844</td>\n",
       "    </tr>\n",
       "    <tr>\n",
       "      <th>Engine Type</th>\n",
       "      <td>-0.047513</td>\n",
       "      <td>0.035381</td>\n",
       "      <td>-0.191813</td>\n",
       "      <td>-0.171347</td>\n",
       "      <td>0.030663</td>\n",
       "      <td>1.000000</td>\n",
       "      <td>0.121222</td>\n",
       "      <td>-0.058127</td>\n",
       "      <td>-0.195631</td>\n",
       "    </tr>\n",
       "    <tr>\n",
       "      <th>Registration</th>\n",
       "      <td>0.155198</td>\n",
       "      <td>0.187212</td>\n",
       "      <td>-0.074222</td>\n",
       "      <td>-0.224822</td>\n",
       "      <td>-0.007307</td>\n",
       "      <td>0.121222</td>\n",
       "      <td>1.000000</td>\n",
       "      <td>0.243208</td>\n",
       "      <td>0.176582</td>\n",
       "    </tr>\n",
       "    <tr>\n",
       "      <th>Year</th>\n",
       "      <td>0.122401</td>\n",
       "      <td>0.465860</td>\n",
       "      <td>-0.173204</td>\n",
       "      <td>-0.668635</td>\n",
       "      <td>-0.022214</td>\n",
       "      <td>-0.058127</td>\n",
       "      <td>0.243208</td>\n",
       "      <td>1.000000</td>\n",
       "      <td>0.262304</td>\n",
       "    </tr>\n",
       "    <tr>\n",
       "      <th>Model</th>\n",
       "      <td>0.335192</td>\n",
       "      <td>0.123690</td>\n",
       "      <td>-0.091033</td>\n",
       "      <td>-0.115262</td>\n",
       "      <td>0.026844</td>\n",
       "      <td>-0.195631</td>\n",
       "      <td>0.176582</td>\n",
       "      <td>0.262304</td>\n",
       "      <td>1.000000</td>\n",
       "    </tr>\n",
       "  </tbody>\n",
       "</table>\n",
       "</div>"
      ],
      "text/plain": [
       "                 Brand      Prix      Body   Mileage   EngineV  Engine Type  \\\n",
       "Brand         1.000000 -0.142669  0.091158 -0.085508 -0.048397    -0.047513   \n",
       "Prix         -0.142669  1.000000 -0.302197 -0.442674  0.054351     0.035381   \n",
       "Body          0.091158 -0.302197  1.000000  0.287460 -0.049051    -0.191813   \n",
       "Mileage      -0.085508 -0.442674  0.287460  1.000000  0.019755    -0.171347   \n",
       "EngineV      -0.048397  0.054351 -0.049051  0.019755  1.000000     0.030663   \n",
       "Engine Type  -0.047513  0.035381 -0.191813 -0.171347  0.030663     1.000000   \n",
       "Registration  0.155198  0.187212 -0.074222 -0.224822 -0.007307     0.121222   \n",
       "Year          0.122401  0.465860 -0.173204 -0.668635 -0.022214    -0.058127   \n",
       "Model         0.335192  0.123690 -0.091033 -0.115262  0.026844    -0.195631   \n",
       "\n",
       "              Registration      Year     Model  \n",
       "Brand             0.155198  0.122401  0.335192  \n",
       "Prix              0.187212  0.465860  0.123690  \n",
       "Body             -0.074222 -0.173204 -0.091033  \n",
       "Mileage          -0.224822 -0.668635 -0.115262  \n",
       "EngineV          -0.007307 -0.022214  0.026844  \n",
       "Engine Type       0.121222 -0.058127 -0.195631  \n",
       "Registration      1.000000  0.243208  0.176582  \n",
       "Year              0.243208  1.000000  0.262304  \n",
       "Model             0.176582  0.262304  1.000000  "
      ]
     },
     "execution_count": 20,
     "metadata": {},
     "output_type": "execute_result"
    }
   ],
   "source": [
    "df_scaled.corr()"
   ]
  },
  {
   "cell_type": "code",
   "execution_count": 21,
   "id": "ca4fe27e-05a7-4659-b736-b3bd044ef44c",
   "metadata": {},
   "outputs": [
    {
     "data": {
      "image/png": "[encoded data removed]",
      "text/plain": [
       "<Figure size 500x500 with 2 Axes>"
      ]
     },
     "metadata": {},
     "output_type": "display_data"
    }
   ],
   "source": [
    "plt.figure(figsize=(5,5))\n",
    "sns.heatmap(df_scaled.corr(), annot=True, cmap='coolwarm')\n",
    "plt.title('Matrice de corrélation de df')\n",
    "plt.show()"
   ]
  },
  {
   "cell_type": "code",
   "execution_count": 25,
   "id": "fdd4c35a-538b-4d93-a2a4-689d769173bb",
   "metadata": {},
   "outputs": [
    {
     "data": {
      "text/html": [
       "<div>\n",
       "<style scoped>\n",
       "    .dataframe tbody tr th:only-of-type {\n",
       "        vertical-align: middle;\n",
       "    }\n",
       "\n",
       "    .dataframe tbody tr th {\n",
       "        vertical-align: top;\n",
       "    }\n",
       "\n",
       "    .dataframe thead th {\n",
       "        text-align: right;\n",
       "    }\n",
       "</style>\n",
       "<table border=\"1\" class=\"dataframe\">\n",
       "  <thead>\n",
       "    <tr style=\"text-align: right;\">\n",
       "      <th></th>\n",
       "      <th>features</th>\n",
       "      <th>VIF</th>\n",
       "    </tr>\n",
       "  </thead>\n",
       "  <tbody>\n",
       "    <tr>\n",
       "      <th>0</th>\n",
       "      <td>Brand</td>\n",
       "      <td>1.237270</td>\n",
       "    </tr>\n",
       "    <tr>\n",
       "      <th>1</th>\n",
       "      <td>Prix</td>\n",
       "      <td>1.491287</td>\n",
       "    </tr>\n",
       "    <tr>\n",
       "      <th>2</th>\n",
       "      <td>Body</td>\n",
       "      <td>1.196786</td>\n",
       "    </tr>\n",
       "    <tr>\n",
       "      <th>3</th>\n",
       "      <td>Mileage</td>\n",
       "      <td>2.112220</td>\n",
       "    </tr>\n",
       "    <tr>\n",
       "      <th>4</th>\n",
       "      <td>EngineV</td>\n",
       "      <td>1.011672</td>\n",
       "    </tr>\n",
       "    <tr>\n",
       "      <th>5</th>\n",
       "      <td>Engine Type</td>\n",
       "      <td>1.182993</td>\n",
       "    </tr>\n",
       "    <tr>\n",
       "      <th>6</th>\n",
       "      <td>Registration</td>\n",
       "      <td>1.133399</td>\n",
       "    </tr>\n",
       "    <tr>\n",
       "      <th>7</th>\n",
       "      <td>Year</td>\n",
       "      <td>2.165227</td>\n",
       "    </tr>\n",
       "    <tr>\n",
       "      <th>8</th>\n",
       "      <td>Model</td>\n",
       "      <td>1.288328</td>\n",
       "    </tr>\n",
       "  </tbody>\n",
       "</table>\n",
       "</div>"
      ],
      "text/plain": [
       "       features       VIF\n",
       "0         Brand  1.237270\n",
       "1          Prix  1.491287\n",
       "2          Body  1.196786\n",
       "3       Mileage  2.112220\n",
       "4       EngineV  1.011672\n",
       "5   Engine Type  1.182993\n",
       "6  Registration  1.133399\n",
       "7          Year  2.165227\n",
       "8         Model  1.288328"
      ]
     },
     "execution_count": 25,
     "metadata": {},
     "output_type": "execute_result"
    }
   ],
   "source": [
    "vif = pd.DataFrame()\n",
    "vif[\"features\"] = df_scaled.columns\n",
    "vif[\"VIF\"] = [variance_inflation_factor(df_scaled.values, i) for i in range(df_scaled.shape[1])]\n",
    "vif"
   ]
  },
  {
   "cell_type": "markdown",
   "id": "12f8ce77-7435-435b-96bb-f6e20c76aca3",
   "metadata": {},
   "source": [
    "La colinéarité entre les variables est acceptable. "
   ]
  },
  {
   "cell_type": "markdown",
   "id": "2574ce87-11f1-47e3-bac2-fcbc3d114caa",
   "metadata": {},
   "source": [
    " "
   ]
  },
  {
   "cell_type": "markdown",
   "id": "13e11d75-4580-46ec-9597-241e0b347935",
   "metadata": {},
   "source": [
    "### 8. Création d'un set de données d'entraînement et d'un set de données de test (70%,30%)."
   ]
  },
  {
   "cell_type": "code",
   "execution_count": 23,
   "id": "2cb726db-2e9e-4764-b164-97e31bd4baa4",
   "metadata": {},
   "outputs": [],
   "source": [
    "y = df_scaled['Prix']\n",
    "X = df_scaled.drop(columns=['Prix'])"
   ]
  },
  {
   "cell_type": "code",
   "execution_count": 26,
   "id": "17e51fcd-eec6-414e-8727-3e30228127dd",
   "metadata": {},
   "outputs": [],
   "source": [
    "# y = Prix, Xm = Mileage, Xe = EngineV, Xe = Year\n",
    "Xm = df_scaled[['Mileage']]\n",
    "Xe = df_scaled[['EngineV']]\n",
    "Xy = df_scaled[['Year']]"
   ]
  },
  {
   "cell_type": "code",
   "execution_count": 27,
   "id": "18d4d101-90d4-4987-8c0e-49f884991785",
   "metadata": {},
   "outputs": [],
   "source": [
    "Xm_train, Xm_test, y_train, y_test = train_test_split(Xm, y, test_size=0.3)\n",
    "Xe_train, Xe_test, y_train, y_test = train_test_split(Xe, y, test_size=0.3)\n",
    "Xy_train, Xy_test, y_train, y_test = train_test_split(Xy, y, test_size=0.3)"
   ]
  },
  {
   "cell_type": "code",
   "execution_count": 28,
   "id": "66eec25d-2d74-45bf-aa0a-abd0ba785040",
   "metadata": {},
   "outputs": [
    {
     "data": {
      "text/plain": [
       "((3041, 1), (1304, 1), (3041,), (1304,))"
      ]
     },
     "execution_count": 28,
     "metadata": {},
     "output_type": "execute_result"
    }
   ],
   "source": [
    "(Xm_train.shape, Xm_test.shape, y_train.shape, y_test.shape)"
   ]
  },
  {
   "cell_type": "markdown",
   "id": "f500655f-a746-42ef-86cb-8c2ccc9b6e9b",
   "metadata": {},
   "source": [
    " "
   ]
  },
  {
   "cell_type": "markdown",
   "id": "a336cb23-f2b3-4264-8d37-0150c8dc6844",
   "metadata": {},
   "source": [
    "### 9. Application d'un modèle de régression linéaire simple."
   ]
  },
  {
   "cell_type": "code",
   "execution_count": 29,
   "id": "3253d8dc-793c-4b31-9540-3b1bdd49556a",
   "metadata": {},
   "outputs": [],
   "source": [
    "modelm = LinearRegression().fit(Xm_train, y_train)\n",
    "modele = LinearRegression().fit(Xe_train, y_train)\n",
    "modely = LinearRegression().fit(Xy_train, y_train)"
   ]
  },
  {
   "cell_type": "code",
   "execution_count": 30,
   "id": "774face8-c235-4503-84b3-3a612d39e482",
   "metadata": {},
   "outputs": [],
   "source": [
    "predictions_m = modelm.predict(Xm_test)\n",
    "predictions_e = modele.predict(Xe_test)\n",
    "predictions_y = modely.predict(Xy_test)"
   ]
  },
  {
   "cell_type": "markdown",
   "id": "cb9d705f-2794-422d-a772-9beae1be6458",
   "metadata": {},
   "source": [
    " "
   ]
  },
  {
   "cell_type": "markdown",
   "id": "de8d13a6-9b61-4f7f-94fa-83b195e50145",
   "metadata": {},
   "source": [
    "### 10. Evaluation du modèle."
   ]
  },
  {
   "cell_type": "code",
   "execution_count": 31,
   "id": "66bbb5b6-3fa4-438f-8585-60b923d83930",
   "metadata": {},
   "outputs": [
    {
     "name": "stdout",
     "output_type": "stream",
     "text": [
      " ### Calcul du MAE, MSE, RMSE et du coefficient de détermination :\n",
      " \n",
      "| Métrique   |     Mileage |     EngineV |     Year |\n",
      "|------------|-------------|-------------|----------|\n",
      "| Ecart-type |  1.04364    |  1.04364    | 1.04364  |\n",
      "| MAE        |  0.556916   |  0.554766   | 0.468571 |\n",
      "| MSE        |  0.796646   |  0.793569   | 0.593297 |\n",
      "| RMSE       |  0.89255    |  0.890825   | 0.770258 |\n",
      "| R²         | -0.00620184 | -0.00231522 | 0.250637 |\n"
     ]
    }
   ],
   "source": [
    "mae_m = mean_absolute_error(y_test, predictions_m)\n",
    "mse_m = mean_squared_error(y_test, predictions_m)\n",
    "rmse_m = mean_squared_error(y_test, predictions_m, squared=False)\n",
    "r2_m = r2_score(y_test, predictions_m)\n",
    "\n",
    "mae_e = mean_absolute_error(y_test, predictions_e)\n",
    "mse_e = mean_squared_error(y_test, predictions_e)\n",
    "rmse_e = mean_squared_error(y_test, predictions_e, squared=False)\n",
    "r2_e = r2_score(y_test, predictions_e)\n",
    "\n",
    "mae_y = mean_absolute_error(y_test, predictions_y)\n",
    "mse_y = mean_squared_error(y_test, predictions_y)\n",
    "rmse_y = mean_squared_error(y_test, predictions_y, squared=False)\n",
    "r2_y = r2_score(y_test, predictions_y)\n",
    "\n",
    "print(\" ### Calcul du MAE, MSE, RMSE et du coefficient de détermination :\")\n",
    "print(\" \")\n",
    "table2 = [['Ecart-type', y_train.std(), y_train.std(), y_train.std()],\n",
    "          ['MAE', mae_m, mae_e, mae_y],\n",
    "          ['MSE', mse_m, mse_e, mse_y],\n",
    "          ['RMSE', rmse_m, rmse_e, rmse_y],\n",
    "          ['R²', r2_m, r2_e, r2_y]]\n",
    "print(tabulate(table2, headers=['Métrique', 'Mileage', 'EngineV', 'Year'], tablefmt='github'))"
   ]
  },
  {
   "cell_type": "markdown",
   "id": "7cbfae36-fc59-4e27-8e0e-e1eef16fe06a",
   "metadata": {},
   "source": [
    " "
   ]
  },
  {
   "cell_type": "markdown",
   "id": "9e463822-43c8-47bc-9362-67e4bfcf36cc",
   "metadata": {},
   "source": [
    "### 11. Application d'un modèle de regression linéaire multiple."
   ]
  },
  {
   "cell_type": "code",
   "execution_count": 32,
   "id": "ec737a7f-4d92-4b6a-8306-5b22907d61ff",
   "metadata": {},
   "outputs": [
    {
     "data": {
      "text/plain": [
       "((3041, 8), (1304, 8), (3041,), (1304,))"
      ]
     },
     "execution_count": 32,
     "metadata": {},
     "output_type": "execute_result"
    }
   ],
   "source": [
    "X_train, X_test, y_train, y_test = train_test_split(X, y, test_size=0.3)\n",
    "(X_train.shape, X_test.shape, y_train.shape, y_test.shape)"
   ]
  },
  {
   "cell_type": "code",
   "execution_count": 33,
   "id": "97b0ed30-a5ec-4350-a711-5fcb7f3d008b",
   "metadata": {},
   "outputs": [],
   "source": [
    "model = LinearRegression().fit(X_train, y_train)"
   ]
  },
  {
   "cell_type": "code",
   "execution_count": 34,
   "id": "ddfbf76d-ac02-4760-a14f-bf962f71e92e",
   "metadata": {},
   "outputs": [],
   "source": [
    "predictions = model.predict(X_test)"
   ]
  },
  {
   "cell_type": "markdown",
   "id": "f4efc466-66a5-46f9-906d-c36dd72ee785",
   "metadata": {},
   "source": [
    "### 12. Evaluation du modèle."
   ]
  },
  {
   "cell_type": "code",
   "execution_count": 35,
   "id": "f3ac2e3c-9cc1-4ad7-a9ae-ec9f72a971c3",
   "metadata": {},
   "outputs": [],
   "source": [
    "mae = mean_absolute_error(y_test, predictions)\n",
    "mse = mean_squared_error(y_test, predictions)\n",
    "rmse = mean_squared_error(y_test, predictions, squared=False)\n",
    "r2 = r2_score(y_test, predictions)"
   ]
  },
  {
   "cell_type": "code",
   "execution_count": 36,
   "id": "22c18895-5c2c-472b-89bd-c370fb524931",
   "metadata": {},
   "outputs": [
    {
     "name": "stdout",
     "output_type": "stream",
     "text": [
      " ### Calcul du MAE, MSE, RMSE et du coefficient de détermination :\n",
      " \n",
      "| Métrique   |   Résultat |\n",
      "|------------|------------|\n",
      "| Ecart-type |   0.993023 |\n",
      "| MAE        |   0.435168 |\n",
      "| MSE        |   0.708848 |\n",
      "| RMSE       |   0.841931 |\n",
      "| R²         |   0.31377  |\n"
     ]
    }
   ],
   "source": [
    "print(\" ### Calcul du MAE, MSE, RMSE et du coefficient de détermination :\")\n",
    "print(\" \")\n",
    "table2 = [['Ecart-type', y_train.std()],\n",
    "          ['MAE', mae],\n",
    "          ['MSE', mse],\n",
    "          ['RMSE', rmse],\n",
    "          ['R²', r2]]\n",
    "print(tabulate(table2, headers=['Métrique', 'Résultat'], tablefmt='github'))"
   ]
  },
  {
   "cell_type": "markdown",
   "id": "9fb356c2-7509-457e-849a-b7fe26b7bee4",
   "metadata": {},
   "source": [
    "Le modèle de régression linéaire multiple donne de meilleurs résultats que le modèle de régression linéaire simple."
   ]
  },
  {
   "cell_type": "markdown",
   "id": "9b8857ef-edc8-4cd0-9925-7f32cbef2958",
   "metadata": {},
   "source": [
    " "
   ]
  },
  {
   "cell_type": "markdown",
   "id": "d829bbb3-b7f2-4bf8-9a10-c1ebe5b128c3",
   "metadata": {},
   "source": [
    "### 13. Application d'un modèle de regression polinomiale."
   ]
  },
  {
   "cell_type": "markdown",
   "id": "9a167d49-5feb-4966-ac98-a514c0d88d94",
   "metadata": {},
   "source": [
    "Xm_train, Xm_test, y_train, y_test\n",
    "Xe_train, Xe_test, y_train, y_test\n",
    "Xy_train, Xy_test, y_train, y_test"
   ]
  },
  {
   "cell_type": "code",
   "execution_count": 37,
   "id": "b57f9a39-92d9-4d21-b850-5530b876eaad",
   "metadata": {},
   "outputs": [
    {
     "name": "stdout",
     "output_type": "stream",
     "text": [
      "Meilleur degré\n",
      "Meilleur degré\n",
      "Meilleur degré\n"
     ]
    },
    {
     "data": {
      "text/html": [
       "<div>\n",
       "<style scoped>\n",
       "    .dataframe tbody tr th:only-of-type {\n",
       "        vertical-align: middle;\n",
       "    }\n",
       "\n",
       "    .dataframe tbody tr th {\n",
       "        vertical-align: top;\n",
       "    }\n",
       "\n",
       "    .dataframe thead th {\n",
       "        text-align: right;\n",
       "    }\n",
       "</style>\n",
       "<table border=\"1\" class=\"dataframe\">\n",
       "  <thead>\n",
       "    <tr style=\"text-align: right;\">\n",
       "      <th></th>\n",
       "      <th>Degré</th>\n",
       "    </tr>\n",
       "  </thead>\n",
       "  <tbody>\n",
       "    <tr>\n",
       "      <th>Mileage</th>\n",
       "      <td>16.0</td>\n",
       "    </tr>\n",
       "    <tr>\n",
       "      <th>EngineV</th>\n",
       "      <td>16.0</td>\n",
       "    </tr>\n",
       "    <tr>\n",
       "      <th>Year</th>\n",
       "      <td>16.0</td>\n",
       "    </tr>\n",
       "  </tbody>\n",
       "</table>\n",
       "</div>"
      ],
      "text/plain": [
       "         Degré\n",
       "Mileage   16.0\n",
       "EngineV   16.0\n",
       "Year      16.0"
      ]
     },
     "execution_count": 37,
     "metadata": {},
     "output_type": "execute_result"
    }
   ],
   "source": [
    "# Choix du degré\n",
    "X_list = [Xm_train.columns.values[0], Xe_train.columns.values[0], Xy_train.columns.values[0]]\n",
    "\n",
    "def degreeChoice (x,y,degree):\n",
    "    polynomial_features= PolynomialFeatures(degree=degree)\n",
    "    x_poly = polynomial_features.fit_transform(x)\n",
    "    model = LinearRegression()\n",
    "    model.fit(x_poly, y)\n",
    "    y_poly_pred = model.predict(x_poly)\n",
    "    rmse = np.sqrt(mean_squared_error(y,y_poly_pred))\n",
    "    r2 = r2_score(y,y_poly_pred)\n",
    "    sort_axis = operator.itemgetter(0)\n",
    "    sorted_zip = sorted(zip(x,y_poly_pred), key=sort_axis)\n",
    "    x_p, y_poly_pred_P = zip(*sorted_zip)\n",
    "    return rmse, r2, x_p, y_poly_pred_P\n",
    "rmselist = np.zeros(100)\n",
    "r2list = np.zeros(100)\n",
    "x_p_list = [None]*100\n",
    "y_poly_pred_P_list=[None]*100\n",
    "degree = pd.DataFrame(np.zeros(3), index=X_list, columns=[\"Degré\"])\n",
    "for j in X_list:\n",
    "    for i in np.arange(1, 101): #101\n",
    "        rmselist[i-1], r2list[i-1], x_p_list[i-1], y_poly_pred_P_list[i-1] = degreeChoice(Xm_train, y_train,i)\n",
    "    degree.loc[j , \"Degré\"] = np.where(r2list == r2list.max())[0][0]\n",
    "    print(\"Meilleur degré\")\n",
    "degree"
   ]
  },
  {
   "cell_type": "code",
   "execution_count": 38,
   "id": "b5055cc8-08a5-4569-9f82-cb298f2310c9",
   "metadata": {},
   "outputs": [],
   "source": [
    "polynom_features = PolynomialFeatures(degree=16)\n",
    "Xm_poly = polynom_features.fit_transform(Xm_train)\n",
    "Xe_poly = polynom_features.fit_transform(Xe_train)\n",
    "Xy_poly = polynom_features.fit_transform(Xy_train)\n",
    "\n",
    "model_Xm_poly = LinearRegression()\n",
    "model_Xe_poly = LinearRegression()\n",
    "model_Xy_poly = LinearRegression()\n",
    "\n",
    "model_Xm_poly.fit(Xm_poly, y_train)\n",
    "model_Xe_poly.fit(Xe_poly, y_train)\n",
    "model_Xy_poly.fit(Xy_poly, y_train)\n",
    "\n",
    "y_predict_m = model_Xm_poly.predict(Xm_poly)\n",
    "y_predict_e = model_Xe_poly.predict(Xe_poly)\n",
    "y_predict_y = model_Xy_poly.predict(Xy_poly)"
   ]
  },
  {
   "cell_type": "code",
   "execution_count": 39,
   "id": "4bff03e7-c12b-4ab2-9e89-f89a18437ca8",
   "metadata": {},
   "outputs": [
    {
     "data": {
      "text/plain": [
       "(1304, 3041)"
      ]
     },
     "execution_count": 39,
     "metadata": {},
     "output_type": "execute_result"
    }
   ],
   "source": [
    "len(y_test), len(y_predict_m)"
   ]
  },
  {
   "cell_type": "code",
   "execution_count": 40,
   "id": "56328e62-5096-4014-af25-3ae860f4e661",
   "metadata": {},
   "outputs": [],
   "source": [
    "mse_m = mean_squared_error(y_train, y_predict_m).round(3)\n",
    "r2_m = r2_score(y_train, y_predict_m).round(3)\n",
    "mse_e = mean_squared_error(y_train, y_predict_e).round(3)\n",
    "r2_e = r2_score(y_train, y_predict_e).round(3)\n",
    "mse_y = mean_squared_error(y_train, y_predict_y).round(3)\n",
    "r2_y = r2_score(y_train, y_predict_y).round(3)"
   ]
  },
  {
   "cell_type": "code",
   "execution_count": 41,
   "id": "7c10af6a-f001-4922-9f81-b13ba32121b5",
   "metadata": {},
   "outputs": [
    {
     "name": "stdout",
     "output_type": "stream",
     "text": [
      " ### Calcul du MAE, MSE, RMSE et du coefficient de détermination :\n",
      " \n",
      "|     |   MSE |    R² |\n",
      "|-----|-------|-------|\n",
      "| m   | 0.979 | 0.007 |\n",
      "| e   | 0.985 | 0.001 |\n",
      "| y   | 0.982 | 0.003 |\n"
     ]
    }
   ],
   "source": [
    "print(\" ### Calcul du MAE, MSE, RMSE et du coefficient de détermination :\")\n",
    "print(\" \")\n",
    "table2 = [['m', mse_m, r2_m],\n",
    "          ['e', mse_e, r2_e],\n",
    "          ['y', mse_y, r2_y]]\n",
    "print(tabulate(table2, headers=[' ', 'MSE', 'R²'], tablefmt='github'))"
   ]
  },
  {
   "cell_type": "markdown",
   "id": "02c6ef77-0d8b-4ce8-aee7-492efa915adb",
   "metadata": {},
   "source": [
    " "
   ]
  },
  {
   "cell_type": "markdown",
   "id": "c416918d-33da-4e0b-99ad-67055d9535fc",
   "metadata": {},
   "source": [
    " "
   ]
  },
  {
   "cell_type": "markdown",
   "id": "7ef9eac0-1367-492f-9fa2-3d5879326b0b",
   "metadata": {},
   "source": [
    "##### Pour finir la série sur la régression, il est possible d'en faire une polynomiale multiple. Elle est cependant plus gourmande en ressources mémoire."
   ]
  },
  {
   "cell_type": "code",
   "execution_count": null,
   "id": "a6dfb3ea-2ed0-467f-bc52-bf8ef8e8a250",
   "metadata": {},
   "outputs": [],
   "source": []
  },
  {
   "cell_type": "code",
   "execution_count": null,
   "id": "3696976e-e62e-47a8-9f05-99948d0bc243",
   "metadata": {},
   "outputs": [],
   "source": []
  },
  {
   "cell_type": "code",
   "execution_count": null,
   "id": "3b1abb5a-6e71-4838-b734-1d46abc7f87e",
   "metadata": {},
   "outputs": [],
   "source": []
  },
  {
   "cell_type": "code",
   "execution_count": null,
   "id": "9f035e20-4c34-4876-a202-d3bef82cdf35",
   "metadata": {},
   "outputs": [],
   "source": []
  },
  {
   "cell_type": "code",
   "execution_count": null,
   "id": "3942b7bc-6198-479d-9eaa-c4f0470a0c64",
   "metadata": {},
   "outputs": [],
   "source": []
  },
  {
   "cell_type": "code",
   "execution_count": null,
   "id": "4f4b3303-2175-49cd-b019-a825b6f688a6",
   "metadata": {},
   "outputs": [],
   "source": []
  },
  {
   "cell_type": "code",
   "execution_count": null,
   "id": "01ac13ad-a833-4558-bc7a-a75dd2d60bd1",
   "metadata": {},
   "outputs": [],
   "source": []
  },
  {
   "cell_type": "code",
   "execution_count": null,
   "id": "788667c6-f8d8-4dae-996a-39cd9cf26583",
   "metadata": {},
   "outputs": [],
   "source": []
  },
  {
   "cell_type": "code",
   "execution_count": null,
   "id": "91d304dc-9191-4ab1-8223-d98ddc1060db",
   "metadata": {},
   "outputs": [],
   "source": []
  },
  {
   "cell_type": "code",
   "execution_count": null,
   "id": "bc51631a-7b06-4d80-8a47-a027c116a4c3",
   "metadata": {},
   "outputs": [],
   "source": []
  },
  {
   "cell_type": "code",
   "execution_count": null,
   "id": "9737674b-5b3b-4f3e-aaf6-f2e037a6ecdd",
   "metadata": {},
   "outputs": [],
   "source": []
  }
 ],
 "metadata": {
  "kernelspec": {
   "display_name": "Python 3 (ipykernel)",
   "language": "python",
   "name": "python3"
  },
  "language_info": {
   "codemirror_mode": {
    "name": "ipython",
    "version": 3
   },
   "file_extension": ".py",
   "mimetype": "text/x-python",
   "name": "python",
   "nbconvert_exporter": "python",
   "pygments_lexer": "ipython3",
   "version": "3.12.1"
  }
 },
 "nbformat": 4,
 "nbformat_minor": 5
}
